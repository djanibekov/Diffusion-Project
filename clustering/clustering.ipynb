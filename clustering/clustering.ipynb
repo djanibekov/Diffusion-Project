{
 "cells": [
  {
   "cell_type": "code",
   "execution_count": 778,
   "metadata": {
    "collapsed": true
   },
   "outputs": [],
   "source": [
    "import pandas as pd\n",
    "import numpy as np\n",
    "import re\n",
    "from transformers import PreTrainedTokenizerFast, XLNetTokenizerFast, BertTokenizer\n",
    "from os import listdir\n",
    "from os.path import isfile"
   ]
  },
  {
   "cell_type": "code",
   "execution_count": 779,
   "outputs": [
    {
     "name": "stdout",
     "output_type": "stream",
     "text": [
      "data/detective\n",
      "Sherlock-Homes-Detective.txt\n",
      "investigates _detective.txt\n",
      "data/romance\n",
      "anna_romance.txt\n",
      "pandp12p.txt\n",
      "data/sci-fi\n",
      "The-Martian-by-Andy-Weir-book-Sci-fi.txt\n",
      "stars_sci_fi.txt\n",
      "data/horror\n",
      "jaws_horror.txt\n",
      "auctioneer_horro.txt\n",
      "the-shining.txt\n",
      "data/adventure\n",
      "donq_adventure.txt\n",
      "Mobi-Dick-Adventure.txt\n",
      "data/test\n",
      "15_year_old_captain.txt\n",
      "three_mush.txt\n",
      "The Master and Margarita.txt\n"
     ]
    }
   ],
   "source": [
    "# f = open(\"data/Mobi-Dick-Adventure.txt\", \"r\")\n",
    "# adventure_book = f.read()\n",
    "# f = open(\"data/pandp12p.txt\", \"r\")\n",
    "# romance = f.read()\n",
    "# f = open(\"data/the-shining.txt\", \"r\")\n",
    "# horror = f.read()\n",
    "# f = open(\"data/The-Martian-by-Andy-Weir-book-Sci-fi.txt\", \"r\")\n",
    "# sci_fi = f.read()\n",
    "# f = open(\"data/Sherlock-Homes-Detective.txt\", \"r\")\n",
    "# detective = f.read()\n",
    "\n",
    "books = {'detective': [], 'romance': [], 'sci-fi': [], 'horror': [], 'adventure': [], 'test': []}\n",
    "for genre in books.keys():\n",
    "    path = 'data/'+genre\n",
    "    print(path)\n",
    "    for book in listdir(path):\n",
    "        if isfile(path+'/'+book):\n",
    "            print(book)\n",
    "            books[genre].append([open(path+'/'+book, 'r').read()])"
   ],
   "metadata": {
    "collapsed": false,
    "pycharm": {
     "name": "#%%\n"
    }
   }
  },
  {
   "cell_type": "code",
   "execution_count": 780,
   "outputs": [
    {
     "data": {
      "text/plain": "2"
     },
     "execution_count": 780,
     "metadata": {},
     "output_type": "execute_result"
    }
   ],
   "source": [
    "len(books['detective'])"
   ],
   "metadata": {
    "collapsed": false,
    "pycharm": {
     "name": "#%%\n"
    }
   }
  },
  {
   "cell_type": "code",
   "execution_count": 780,
   "outputs": [],
   "source": [],
   "metadata": {
    "collapsed": false,
    "pycharm": {
     "name": "#%%\n"
    }
   }
  },
  {
   "cell_type": "code",
   "execution_count": 781,
   "outputs": [
    {
     "name": "stdout",
     "output_type": "stream",
     "text": [
      "9\n",
      "9\n",
      "7\n",
      "7\n",
      "6\n",
      "6\n",
      "6\n",
      "6\n",
      "6\n",
      "9\n",
      "9\n",
      "4\n",
      "4\n",
      "4\n"
     ]
    }
   ],
   "source": [
    "alphabets= \"([A-Za-z])\"\n",
    "prefixes = \"(Mr|St|Mrs|Ms|Dr)[.]\"\n",
    "suffixes = \"(Inc|Ltd|Jr|Sr|Co)\"\n",
    "starters = \"(Mr|Mrs|Ms|Dr|He\\s|She\\s|It\\s|They\\s|Their\\s|Our\\s|We\\s|But\\s|However\\s|That\\s|This\\s|Wherever)\"\n",
    "acronyms = \"([A-Z][.][A-Z][.](?:[A-Z][.])?)\"\n",
    "websites = \"[.](com|net|org|io|gov)\"\n",
    "digits = \"([0-9])\"\n",
    "\n",
    "def split_into_sentences(text):\n",
    "    text = \" \" + text + \"  \"\n",
    "    text = text.replace(\"\\n\",\" \")\n",
    "    text = text.replace(\"\\n\",\"  \")\n",
    "    text = re.sub(prefixes,\"\\\\1<prd>\",text)\n",
    "    text = re.sub(websites,\"<prd>\\\\1\",text)\n",
    "    text = re.sub(digits + \"[.]\" + digits,\"\\\\1<prd>\\\\2\",text)\n",
    "    if \"...\" in text: text = text.replace(\"...\",\"<prd><prd><prd>\")\n",
    "    if \"Ph.D\" in text: text = text.replace(\"Ph.D.\",\"Ph<prd>D<prd>\")\n",
    "    text = re.sub(\"\\s\" + alphabets + \"[.] \",\" \\\\1<prd> \",text)\n",
    "    text = re.sub(acronyms+\" \"+starters,\"\\\\1<stop> \\\\2\",text)\n",
    "    text = re.sub(alphabets + \"[.]\" + alphabets + \"[.]\" + alphabets + \"[.]\",\"\\\\1<prd>\\\\2<prd>\\\\3<prd>\",text)\n",
    "    text = re.sub(alphabets + \"[.]\" + alphabets + \"[.]\",\"\\\\1<prd>\\\\2<prd>\",text)\n",
    "    text = re.sub(\" \"+suffixes+\"[.] \"+starters,\" \\\\1<stop> \\\\2\",text)\n",
    "    text = re.sub(\" \"+suffixes+\"[.]\",\" \\\\1<prd>\",text)\n",
    "    text = re.sub(\" \" + alphabets + \"[.]\",\" \\\\1<prd>\",text)\n",
    "    if \"”\" in text: text = text.replace(\".”\",\"”.\")\n",
    "    if \"\\\"\" in text: text = text.replace(\".\\\"\",\"\\\".\")\n",
    "    if \"!\" in text: text = text.replace(\"!\\\"\",\"\\\"!\")\n",
    "    if \"?\" in text: text = text.replace(\"?\\\"\",\"\\\"?\")\n",
    "    text = text.replace(\".\",\".<stop>\")\n",
    "    text = text.replace(\"?\",\"?<stop>\")\n",
    "    text = text.replace(\"!\",\"!<stop>\")\n",
    "    text = text.replace(\"<prd>\",\".\")\n",
    "    sentences = text.split(\"<stop>\")\n",
    "    sentences = sentences[:-1]\n",
    "    sentences = [s.strip() for s in sentences]\n",
    "    return sentences\n",
    "\n",
    "\n",
    "def get_paragraphs(book, genre, book_indx):\n",
    "    book_sentences = split_into_sentences(book)\n",
    "    # print(len(book_sentences))\n",
    "    book_sentences = book_sentences[int(len(book_sentences)*0.1) : int(len(book_sentences)*0.9)]\n",
    "    # print(len(book_sentences))\n",
    "    paragraphs = []\n",
    "    genres = []\n",
    "    book_indxs = []\n",
    "    for indx in range(1, int(len(book_sentences)/10)):\n",
    "        paragraphs.append(' '.join(book_sentences[(indx-1)*10 : indx*10]))\n",
    "        genres.append(genre)\n",
    "        book_indxs.append(book_indx)\n",
    "    return paragraphs, genres, book_indxs\n",
    "\n",
    "paragraphs = []\n",
    "genres = []\n",
    "book_indxs = []\n",
    "for genre in books.keys():\n",
    "    for indx, book in enumerate(books[genre]):\n",
    "        paragraph, genre_l, book_indx = get_paragraphs(book[0], genre, indx)\n",
    "        print(len(genre_l[0]))\n",
    "        paragraphs= paragraphs + paragraph[:500]\n",
    "        genres = genres + genre_l[:500]\n",
    "        book_indxs = book_indxs + book_indx[:500]\n",
    "\n",
    "data = pd.DataFrame({'paragraph': paragraphs, 'genre': genres, 'book': book_indxs})"
   ],
   "metadata": {
    "collapsed": false,
    "pycharm": {
     "name": "#%%\n"
    }
   }
  },
  {
   "cell_type": "code",
   "execution_count": 782,
   "outputs": [
    {
     "data": {
      "text/plain": "                                              paragraph      genre  book\n0     “Then I can wait in the next room”. “Not at al...  detective     0\n1     “You did, Doctor, but none the less you must c...  detective     0\n2     I did not gain very much, however, by my inspe...  detective     0\n3     “How did you know, for example, that I did man...  detective     0\n4     ”  “Well, but China? ”  “The fish that you hav...  detective     0\n...                                                 ...        ...   ...\n6149  And generally I will allow myself the boldness...       test     2\n6150  There are things in which neither barriers of ...       test     2\n6151  In these seven golden claws' burned thick wax ...       test     2\n6152  Hella rose and bowed to Margarita. The cat, ju...       test     2\n6153  Woland, broadly sprawled on the bed, was weari...       test     2\n\n[6154 rows x 3 columns]",
      "text/html": "<div>\n<style scoped>\n    .dataframe tbody tr th:only-of-type {\n        vertical-align: middle;\n    }\n\n    .dataframe tbody tr th {\n        vertical-align: top;\n    }\n\n    .dataframe thead th {\n        text-align: right;\n    }\n</style>\n<table border=\"1\" class=\"dataframe\">\n  <thead>\n    <tr style=\"text-align: right;\">\n      <th></th>\n      <th>paragraph</th>\n      <th>genre</th>\n      <th>book</th>\n    </tr>\n  </thead>\n  <tbody>\n    <tr>\n      <th>0</th>\n      <td>“Then I can wait in the next room”. “Not at al...</td>\n      <td>detective</td>\n      <td>0</td>\n    </tr>\n    <tr>\n      <th>1</th>\n      <td>“You did, Doctor, but none the less you must c...</td>\n      <td>detective</td>\n      <td>0</td>\n    </tr>\n    <tr>\n      <th>2</th>\n      <td>I did not gain very much, however, by my inspe...</td>\n      <td>detective</td>\n      <td>0</td>\n    </tr>\n    <tr>\n      <th>3</th>\n      <td>“How did you know, for example, that I did man...</td>\n      <td>detective</td>\n      <td>0</td>\n    </tr>\n    <tr>\n      <th>4</th>\n      <td>”  “Well, but China? ”  “The fish that you hav...</td>\n      <td>detective</td>\n      <td>0</td>\n    </tr>\n    <tr>\n      <th>...</th>\n      <td>...</td>\n      <td>...</td>\n      <td>...</td>\n    </tr>\n    <tr>\n      <th>6149</th>\n      <td>And generally I will allow myself the boldness...</td>\n      <td>test</td>\n      <td>2</td>\n    </tr>\n    <tr>\n      <th>6150</th>\n      <td>There are things in which neither barriers of ...</td>\n      <td>test</td>\n      <td>2</td>\n    </tr>\n    <tr>\n      <th>6151</th>\n      <td>In these seven golden claws' burned thick wax ...</td>\n      <td>test</td>\n      <td>2</td>\n    </tr>\n    <tr>\n      <th>6152</th>\n      <td>Hella rose and bowed to Margarita. The cat, ju...</td>\n      <td>test</td>\n      <td>2</td>\n    </tr>\n    <tr>\n      <th>6153</th>\n      <td>Woland, broadly sprawled on the bed, was weari...</td>\n      <td>test</td>\n      <td>2</td>\n    </tr>\n  </tbody>\n</table>\n<p>6154 rows × 3 columns</p>\n</div>"
     },
     "execution_count": 782,
     "metadata": {},
     "output_type": "execute_result"
    }
   ],
   "source": [
    "data"
   ],
   "metadata": {
    "collapsed": false,
    "pycharm": {
     "name": "#%%\n"
    }
   }
  },
  {
   "cell_type": "code",
   "execution_count": 783,
   "outputs": [
    {
     "data": {
      "text/plain": "test         1500\nsci-fi       1000\nadventure    1000\nromance       978\ndetective     906\nhorror        770\nName: genre, dtype: int64"
     },
     "execution_count": 783,
     "metadata": {},
     "output_type": "execute_result"
    }
   ],
   "source": [
    "data['genre'].value_counts()"
   ],
   "metadata": {
    "collapsed": false,
    "pycharm": {
     "name": "#%%\n"
    }
   }
  },
  {
   "cell_type": "code",
   "execution_count": 784,
   "outputs": [],
   "source": [
    "data.to_csv('paragraphs.csv')"
   ],
   "metadata": {
    "collapsed": false,
    "pycharm": {
     "name": "#%%\n"
    }
   }
  },
  {
   "cell_type": "code",
   "execution_count": 785,
   "outputs": [
    {
     "data": {
      "text/plain": "test         1500\nsci-fi       1000\nadventure    1000\nromance       978\ndetective     906\nhorror        770\nName: genre, dtype: int64"
     },
     "execution_count": 785,
     "metadata": {},
     "output_type": "execute_result"
    }
   ],
   "source": [
    "data['genre'].value_counts()"
   ],
   "metadata": {
    "collapsed": false,
    "pycharm": {
     "name": "#%%\n"
    }
   }
  },
  {
   "cell_type": "code",
   "execution_count": 786,
   "outputs": [],
   "source": [
    "X = data.drop(data[data['genre'] == 'test'].index)\n",
    "y = data[data['genre'] == 'test']"
   ],
   "metadata": {
    "collapsed": false,
    "pycharm": {
     "name": "#%%\n"
    }
   }
  },
  {
   "cell_type": "code",
   "execution_count": 787,
   "outputs": [],
   "source": [
    "tokenizer = BertTokenizer.from_pretrained('bert-base-uncased')\n",
    "encoded_text = [[]]\n",
    "encoded_y = [[]]\n",
    "for text in X['paragraph']:\n",
    "    encoded_text.append(tokenizer.encode(text, padding='max_length', max_length=639,  truncation=True, return_tensors='np'))\n",
    "\n",
    "for text in y['paragraph']:\n",
    "    encoded_y.append(tokenizer.encode(text, padding='max_length', max_length=639,  truncation=True, return_tensors='np'))\n"
   ],
   "metadata": {
    "collapsed": false,
    "pycharm": {
     "name": "#%%\n"
    }
   }
  },
  {
   "cell_type": "code",
   "execution_count": 788,
   "outputs": [],
   "source": [
    "from sklearn.feature_extraction.text import TfidfVectorizer\n",
    "vectorizer = TfidfVectorizer()\n",
    "\n",
    "X_vectors = vectorizer.fit_transform(X['paragraph'])\n",
    "y_vectors = vectorizer.transform(y['paragraph'])"
   ],
   "metadata": {
    "collapsed": false,
    "pycharm": {
     "name": "#%%\n"
    }
   }
  },
  {
   "cell_type": "code",
   "execution_count": 789,
   "outputs": [],
   "source": [
    "encoded_text_np = np.array(encoded_text[1:])\n",
    "encoded_y_np = np.array(encoded_y[1:])"
   ],
   "metadata": {
    "collapsed": false,
    "pycharm": {
     "name": "#%%\n"
    }
   }
  },
  {
   "cell_type": "code",
   "execution_count": 790,
   "outputs": [],
   "source": [
    "encoded_text_np = np.squeeze(encoded_text_np, axis=1)\n",
    "encoded_y_np = np.squeeze(encoded_y_np, axis=1)"
   ],
   "metadata": {
    "collapsed": false,
    "pycharm": {
     "name": "#%%\n"
    }
   }
  },
  {
   "cell_type": "code",
   "execution_count": 791,
   "outputs": [
    {
     "name": "stderr",
     "output_type": "stream",
     "text": [
      "<ipython-input-791-a8a21019db28>:4: SettingWithCopyWarning: \n",
      "A value is trying to be set on a copy of a slice from a DataFrame.\n",
      "Try using .loc[row_indexer,col_indexer] = value instead\n",
      "\n",
      "See the caveats in the documentation: https://pandas.pydata.org/pandas-docs/stable/user_guide/indexing.html#returning-a-view-versus-a-copy\n",
      "  y['cluster'] = kmeans.predict(encoded_y_np)\n"
     ]
    }
   ],
   "source": [
    "from sklearn.cluster import KMeans\n",
    "\n",
    "kmeans = KMeans(n_clusters=5, random_state=0).fit(encoded_text_np)\n",
    "y['cluster'] = kmeans.predict(encoded_y_np)"
   ],
   "metadata": {
    "collapsed": false,
    "pycharm": {
     "name": "#%%\n"
    }
   }
  },
  {
   "cell_type": "code",
   "execution_count": 792,
   "outputs": [
    {
     "name": "stderr",
     "output_type": "stream",
     "text": [
      "<ipython-input-792-1673ab96c585>:2: SettingWithCopyWarning: \n",
      "A value is trying to be set on a copy of a slice from a DataFrame.\n",
      "Try using .loc[row_indexer,col_indexer] = value instead\n",
      "\n",
      "See the caveats in the documentation: https://pandas.pydata.org/pandas-docs/stable/user_guide/indexing.html#returning-a-view-versus-a-copy\n",
      "  y['cluster_tf_idf'] = kmeans_tf_idf.predict(y_vectors)\n"
     ]
    }
   ],
   "source": [
    "kmeans_tf_idf = KMeans(n_clusters=5, random_state=0).fit(X_vectors)\n",
    "y['cluster_tf_idf'] = kmeans_tf_idf.predict(y_vectors)"
   ],
   "metadata": {
    "collapsed": false,
    "pycharm": {
     "name": "#%%\n"
    }
   }
  },
  {
   "cell_type": "code",
   "execution_count": 793,
   "outputs": [
    {
     "data": {
      "text/plain": "{0: 423, 1: 1236, 2: 877, 3: 624, 4: 1494}"
     },
     "execution_count": 793,
     "metadata": {},
     "output_type": "execute_result"
    }
   ],
   "source": [
    "unique, counts = np.unique(kmeans.labels_, return_counts=True)\n",
    "dict(zip(unique, counts))"
   ],
   "metadata": {
    "collapsed": false,
    "pycharm": {
     "name": "#%%\n"
    }
   }
  },
  {
   "cell_type": "code",
   "execution_count": 794,
   "outputs": [],
   "source": [
    "X['cluster'] = kmeans.labels_"
   ],
   "metadata": {
    "collapsed": false,
    "pycharm": {
     "name": "#%%\n"
    }
   }
  },
  {
   "cell_type": "code",
   "execution_count": 795,
   "outputs": [],
   "source": [
    "X['cluster_tf_idf'] = kmeans_tf_idf.labels_"
   ],
   "metadata": {
    "collapsed": false,
    "pycharm": {
     "name": "#%%\n"
    }
   }
  },
  {
   "cell_type": "code",
   "execution_count": 796,
   "outputs": [
    {
     "name": "stdout",
     "output_type": "stream",
     "text": [
      "{'detective': 0, 'romance': 18, 'sci-fi': 0, 'horror': 8, 'adventure': 397}\n",
      "{'detective': 359, 'romance': 297, 'sci-fi': 282, 'horror': 203, 'adventure': 95}\n",
      "{'detective': 203, 'romance': 331, 'sci-fi': 36, 'horror': 140, 'adventure': 167}\n",
      "{'detective': 36, 'romance': 203, 'sci-fi': 1, 'horror': 102, 'adventure': 282}\n",
      "{'detective': 308, 'romance': 129, 'sci-fi': 681, 'horror': 317, 'adventure': 59}\n"
     ]
    },
    {
     "data": {
      "text/plain": "['adventure', 'detective', 'romance', 'adventure', 'sci-fi']"
     },
     "execution_count": 796,
     "metadata": {},
     "output_type": "execute_result"
    }
   ],
   "source": [
    "\n",
    "cluster_assigning = ['', '', '', '', '']\n",
    "for cluster in range(5):\n",
    "    genre_occurence = {'detective': 0, 'romance': 0, 'sci-fi': 0, 'horror': 0, 'adventure': 0}\n",
    "    for genre in X[X['cluster'] == cluster]['genre']:\n",
    "        genre_occurence[genre] = genre_occurence[genre] + 1\n",
    "    print(genre_occurence)\n",
    "    cluster_assigning[cluster] = max(genre_occurence, key=genre_occurence.get)\n",
    "\n",
    "cluster_assigning"
   ],
   "metadata": {
    "collapsed": false,
    "pycharm": {
     "name": "#%%\n"
    }
   }
  },
  {
   "cell_type": "code",
   "execution_count": 797,
   "outputs": [
    {
     "data": {
      "text/plain": "1    597\n2    519\n4    272\n3    109\n0      3\nName: cluster, dtype: int64"
     },
     "execution_count": 797,
     "metadata": {},
     "output_type": "execute_result"
    }
   ],
   "source": [
    "y['cluster'].value_counts()"
   ],
   "metadata": {
    "collapsed": false,
    "pycharm": {
     "name": "#%%\n"
    }
   }
  },
  {
   "cell_type": "code",
   "execution_count": 798,
   "outputs": [
    {
     "name": "stdout",
     "output_type": "stream",
     "text": [
      "{'detective': 491, 'romance': 203, 'sci-fi': 178, 'horror': 244, 'adventure': 377}\n",
      "{'detective': 356, 'romance': 226, 'sci-fi': 809, 'horror': 331, 'adventure': 136}\n",
      "{'detective': 57, 'romance': 537, 'sci-fi': 13, 'horror': 38, 'adventure': 25}\n",
      "{'detective': 0, 'romance': 0, 'sci-fi': 0, 'horror': 157, 'adventure': 0}\n",
      "{'detective': 2, 'romance': 12, 'sci-fi': 0, 'horror': 0, 'adventure': 462}\n"
     ]
    },
    {
     "data": {
      "text/plain": "['detective', 'sci-fi', 'romance', 'horror', 'adventure']"
     },
     "execution_count": 798,
     "metadata": {},
     "output_type": "execute_result"
    }
   ],
   "source": [
    "cluster_assigning_ = ['', '', '', '', '']\n",
    "for cluster in range(5):\n",
    "    genre_occurence_ = {'detective': 0, 'romance': 0, 'sci-fi': 0, 'horror': 0, 'adventure': 0}\n",
    "    for genre in X[X['cluster_tf_idf'] == cluster]['genre']:\n",
    "        genre_occurence_[genre] = genre_occurence_[genre] + 1\n",
    "    print(genre_occurence_)\n",
    "    cluster_assigning_[cluster] = max(genre_occurence_, key=genre_occurence_.get)\n",
    "\n",
    "cluster_assigning_"
   ],
   "metadata": {
    "collapsed": false,
    "pycharm": {
     "name": "#%%\n"
    }
   }
  },
  {
   "cell_type": "code",
   "execution_count": 799,
   "outputs": [
    {
     "data": {
      "text/plain": "0    947\n1    465\n2     79\n4      9\nName: cluster_tf_idf, dtype: int64"
     },
     "execution_count": 799,
     "metadata": {},
     "output_type": "execute_result"
    }
   ],
   "source": [
    "y['cluster_tf_idf'].value_counts()"
   ],
   "metadata": {
    "collapsed": false,
    "pycharm": {
     "name": "#%%\n"
    }
   }
  },
  {
   "cell_type": "code",
   "execution_count": 800,
   "outputs": [
    {
     "data": {
      "text/plain": "                                              paragraph   genre  book  \\\n2979  Any overbid of an adversary shows strength; an...  horror     1   \n2980  If it be 3 or more, Royals, with a holding of ...  horror     1   \n2981  In all cases where the score is not especially...  horror     1   \n2982  THE BID OF ONE NO-TRUMP  The Dealer is justifi...  horror     1   \n2983  Knave, Ten, and two others surely stops a suit...  horror     1   \n...                                                 ...     ...   ...   \n3149  The rule clearly decides this case. The advers...  horror     1   \n3150  Seven Diamonds, headed by Knave, Ten; Ace of S...  horror     1   \n3151  It cannot affect the confidence of the partner...  horror     1   \n3152  2. Three, or even Four, Diamonds. (The bid of ...  horror     1   \n3153  It is not likely that any change, which dimini...  horror     1   \n\n      cluster  cluster_tf_idf  \n2979        2               3  \n2980        2               3  \n2981        3               3  \n2982        2               3  \n2983        1               3  \n...       ...             ...  \n3149        0               3  \n3150        1               3  \n3151        2               3  \n3152        1               3  \n3153        2               3  \n\n[157 rows x 5 columns]",
      "text/html": "<div>\n<style scoped>\n    .dataframe tbody tr th:only-of-type {\n        vertical-align: middle;\n    }\n\n    .dataframe tbody tr th {\n        vertical-align: top;\n    }\n\n    .dataframe thead th {\n        text-align: right;\n    }\n</style>\n<table border=\"1\" class=\"dataframe\">\n  <thead>\n    <tr style=\"text-align: right;\">\n      <th></th>\n      <th>paragraph</th>\n      <th>genre</th>\n      <th>book</th>\n      <th>cluster</th>\n      <th>cluster_tf_idf</th>\n    </tr>\n  </thead>\n  <tbody>\n    <tr>\n      <th>2979</th>\n      <td>Any overbid of an adversary shows strength; an...</td>\n      <td>horror</td>\n      <td>1</td>\n      <td>2</td>\n      <td>3</td>\n    </tr>\n    <tr>\n      <th>2980</th>\n      <td>If it be 3 or more, Royals, with a holding of ...</td>\n      <td>horror</td>\n      <td>1</td>\n      <td>2</td>\n      <td>3</td>\n    </tr>\n    <tr>\n      <th>2981</th>\n      <td>In all cases where the score is not especially...</td>\n      <td>horror</td>\n      <td>1</td>\n      <td>3</td>\n      <td>3</td>\n    </tr>\n    <tr>\n      <th>2982</th>\n      <td>THE BID OF ONE NO-TRUMP  The Dealer is justifi...</td>\n      <td>horror</td>\n      <td>1</td>\n      <td>2</td>\n      <td>3</td>\n    </tr>\n    <tr>\n      <th>2983</th>\n      <td>Knave, Ten, and two others surely stops a suit...</td>\n      <td>horror</td>\n      <td>1</td>\n      <td>1</td>\n      <td>3</td>\n    </tr>\n    <tr>\n      <th>...</th>\n      <td>...</td>\n      <td>...</td>\n      <td>...</td>\n      <td>...</td>\n      <td>...</td>\n    </tr>\n    <tr>\n      <th>3149</th>\n      <td>The rule clearly decides this case. The advers...</td>\n      <td>horror</td>\n      <td>1</td>\n      <td>0</td>\n      <td>3</td>\n    </tr>\n    <tr>\n      <th>3150</th>\n      <td>Seven Diamonds, headed by Knave, Ten; Ace of S...</td>\n      <td>horror</td>\n      <td>1</td>\n      <td>1</td>\n      <td>3</td>\n    </tr>\n    <tr>\n      <th>3151</th>\n      <td>It cannot affect the confidence of the partner...</td>\n      <td>horror</td>\n      <td>1</td>\n      <td>2</td>\n      <td>3</td>\n    </tr>\n    <tr>\n      <th>3152</th>\n      <td>2. Three, or even Four, Diamonds. (The bid of ...</td>\n      <td>horror</td>\n      <td>1</td>\n      <td>1</td>\n      <td>3</td>\n    </tr>\n    <tr>\n      <th>3153</th>\n      <td>It is not likely that any change, which dimini...</td>\n      <td>horror</td>\n      <td>1</td>\n      <td>2</td>\n      <td>3</td>\n    </tr>\n  </tbody>\n</table>\n<p>157 rows × 5 columns</p>\n</div>"
     },
     "execution_count": 800,
     "metadata": {},
     "output_type": "execute_result"
    }
   ],
   "source": [
    "X[X['cluster_tf_idf'] == 3]"
   ],
   "metadata": {
    "collapsed": false,
    "pycharm": {
     "name": "#%%\n"
    }
   }
  },
  {
   "cell_type": "code",
   "execution_count": 801,
   "outputs": [
    {
     "name": "stdout",
     "output_type": "stream",
     "text": [
      "\n",
      "Cluster 0\n",
      "he,to,of,and,the\n",
      "\n",
      "Cluster 1\n",
      "and,it,to,you,the\n",
      "\n",
      "Cluster 2\n",
      "to,and,the,she,her\n",
      "\n",
      "Cluster 3\n",
      "of,partner,is,suit,the\n",
      "\n",
      "Cluster 4\n",
      "that,of,to,and,the\n"
     ]
    }
   ],
   "source": [
    "def get_top_keywords(data, clusters, labels, n_terms):\n",
    "    df = pd.DataFrame(data.todense()).groupby(clusters).mean() #create dataframe, rows: clusters, columns: words\n",
    "\n",
    "    for i,r in df.iterrows():\n",
    "        print('\\nCluster {}'.format(i))\n",
    "        print(','.join([labels[t] for t in np.argsort(r)[-n_terms:]])) #sort words for every cluster and print top 10\n",
    "\n",
    "get_top_keywords(X_vectors, X['cluster_tf_idf'], vectorizer.get_feature_names_out(), 5)"
   ],
   "metadata": {
    "collapsed": false,
    "pycharm": {
     "name": "#%%\n"
    }
   }
  },
  {
   "cell_type": "code",
   "execution_count": 801,
   "outputs": [],
   "source": [],
   "metadata": {
    "collapsed": false,
    "pycharm": {
     "name": "#%%\n"
    }
   }
  },
  {
   "cell_type": "code",
   "execution_count": 802,
   "outputs": [
    {
     "name": "stderr",
     "output_type": "stream",
     "text": [
      "[nltk_data] Downloading package stopwords to\n",
      "[nltk_data]     /Users/jonibekmansurov/nltk_data...\n",
      "[nltk_data]   Package stopwords is already up-to-date!\n"
     ]
    },
    {
     "data": {
      "text/plain": "True"
     },
     "execution_count": 802,
     "metadata": {},
     "output_type": "execute_result"
    }
   ],
   "source": [
    "import nltk\n",
    "from nltk.corpus import stopwords\n",
    "from nltk.tokenize import word_tokenize\n",
    "import string\n",
    "nltk.download('stopwords')"
   ],
   "metadata": {
    "collapsed": false,
    "pycharm": {
     "name": "#%%\n"
    }
   }
  },
  {
   "cell_type": "code",
   "execution_count": 803,
   "outputs": [],
   "source": [
    "mispell_dict = {\"ain’t\": \"is not\", \"aren’t\": \"are not\",\"can’t\": \"cannot\",\n",
    "                \"’cause\": \"because\", \"could’ve\": \"could have\", \"couldn’t\":\n",
    "                \"could not\", \"didn’t\": \"did not\",  \"doesn’t\": \"does not\",\n",
    "                \"don’t\": \"do not\", \"hadn’t\": \"had not\", \"hasn’t\": \"has not\",\n",
    "                \"haven’t\": \"have not\", \"he’d\": \"he would\",\"he’ll\": \"he will\",\n",
    "                \"he’s\": \"he is\", \"how’d\": \"how did\", \"how’d’y\": \"how do you\",\n",
    "                \"how’ll\": \"how will\", \"how’s\": \"how is\",  \"I’d\": \"I would\",\n",
    "                \"I’d’ve\": \"I would have\", \"I’ll\": \"I will\", \"I’ll’ve\": \"I will have\",\n",
    "                \"I’m\": \"I am\", \"I’ve\": \"I have\", \"i’d\": \"i would\",\n",
    "                \"i’d’ve\": \"i would have\", \"i’ll\": \"i will\",\n",
    "                \"i’ll’ve\": \"i will have\",\"i’m\": \"i am\", \"i’ve\": \"i have\",\n",
    "                \"isn’t\": \"is not\", \"it’d\": \"it would\", \"it’d’ve\": \"it would have\",\n",
    "                \"it’ll\": \"it will\", \"it’ll’ve\": \"it will have\",\"it’s\": \"it is\",\n",
    "                \"let’s\": \"let us\", \"ma’am\": \"madam\", \"mayn’t\": \"may not\",\n",
    "                \"might’ve\": \"might have\",\"mightn’t\": \"might not\",\n",
    "                \"mightn’t’ve\": \"might not have\", \"must’ve\": \"must have\",\n",
    "                \"mustn’t\": \"must not\", \"mustn’t’ve\": \"must not have\",\n",
    "                \"needn’t\": \"need not\", \"needn’t’ve\": \"need not have\",\n",
    "                \"o’clock\": \"of the clock\", \"oughtn’t\": \"ought not\",\n",
    "                \"oughtn’t’ve\": \"ought not have\", \"shan’t\": \"shall not\",\n",
    "                \"sha’n’t\": \"shall not\", \"shan’t’ve\": \"shall not have\",\n",
    "                \"she’d\": \"she would\", \"she’d’ve\": \"she would have\", \"she’ll\":\n",
    "                    \"she will\", \"she’ll’ve\": \"she will have\", \"she’s\": \"she is\",\n",
    "                \"should’ve\": \"should have\", \"shouldn’t\": \"should not\", \"shouldn’t’ve\": \"should not have\",\n",
    "                \"so’ve\": \"so have\",\"so’s\": \"so as\", \"this’s\": \"this is\",\"that’d\": \"that would\",\n",
    "                \"that’d’ve\": \"that would have\", \"that’s\": \"that is\", \"there’d\": \"there would\",\n",
    "                \"there’d’ve\": \"there would have\", \"there’s\": \"there is\", \"here’s\": \"here is\",\n",
    "                \"they’d\": \"they would\", \"they’d’ve\": \"they would have\", \"they’ll\": \"they will\",\n",
    "                \"they’ll’ve\": \"they will have\", \"they’re\": \"they are\", \"they’ve\": \"they have\",\n",
    "                \"to’ve\": \"to have\", \"wasn’t\": \"was not\", \"we’d\": \"we would\", \"we’d’ve\": \"we would have\",\n",
    "                \"we’ll\": \"we will\", \"we’ll’ve\": \"we will have\", \"we’re\": \"we are\", \"we’ve\": \"we have\",\n",
    "                \"weren’t\": \"were not\", \"what’ll\": \"what will\", \"what’ll’ve\": \"what will have\",\n",
    "                \"what’re\": \"what are\",  \"what’s\": \"what is\", \"what’ve\": \"what have\", \"when’s\":\n",
    "                    \"when is\", \"when’ve\": \"when have\", \"where’d\": \"where did\", \"where’s\": \"where is\",\n",
    "                \"where’ve\": \"where have\", \"who’ll\": \"who will\", \"who’ll’ve\": \"who will have\",\n",
    "                \"who’s\": \"who is\", \"who’ve\": \"who have\", \"why’s\": \"why is\", \"why’ve\": \"why have\",\n",
    "                \"will’ve\": \"will have\", \"won’t\": \"will not\", \"won’t’ve\": \"will not have\",\n",
    "                \"would’ve\": \"would have\", \"wouldn’t\": \"would not\", \"wouldn’t’ve\": \"would not have\",\n",
    "                \"y’all\": \"you all\", \"y’all’d\": \"you all would\",\"y’all’d’ve\": \"you all would have\",\n",
    "                \"y’all’re\": \"you all are\",\"y’all’ve\": \"you all have\",\"you’d\": \"you would\", \"you’d’ve\": \"you would have\",\n",
    "                \"you’ll\": \"you will\", \"you’ll’ve\": \"you will have\", \"you’re\": \"you are\", \"you’ve\": \"you have\", \"she`s\": \"she is\", \"\\n\": \" \", \"  \": \" \"}"
   ],
   "metadata": {
    "collapsed": false,
    "pycharm": {
     "name": "#%%\n"
    }
   }
  },
  {
   "cell_type": "code",
   "execution_count": 804,
   "outputs": [],
   "source": [
    "# import spacy\n",
    "# from spacy import displacy\n",
    "\n",
    "# NER = spacy.load(\"en_core_web_sm\")\n",
    "# ner_list = ['PERSON', 'ORG']\n",
    "\n",
    "def preprocess_paragraph(data):\n",
    "    stop_words = set(stopwords.words('english'))\n",
    "    preprocessed_paragraphs = []\n",
    "    for paragraph in data:\n",
    "        punctuation = string.punctuation\n",
    "        punctuation = punctuation + '“”’,‘'\n",
    "        # paragraph_ner = NER(paragraph)\n",
    "        # ner_words = [word.text for word in paragraph_ner.ents if word.label_ in ner_list]\n",
    "        # paragraph = \" \".join([word for word in paragraph.split() if word not in ner_words])\n",
    "        paragraph = \" \".join([word for word in paragraph.split() if word[0].islower()])\n",
    "        paragraph = paragraph.lower()\n",
    "        for key in mispell_dict.keys():\n",
    "            paragraph = paragraph.replace(key, mispell_dict[key])\n",
    "        paragraph = paragraph.translate(str.maketrans('', '', punctuation))\n",
    "        word_tokens = word_tokenize(paragraph)\n",
    "        filtered_sentence = []\n",
    "        for w in word_tokens:\n",
    "            if w not in stop_words:\n",
    "                filtered_sentence.append(w)\n",
    "        preprocessed_paragraphs.append(' '.join(filtered_sentence))\n",
    "\n",
    "    return preprocessed_paragraphs"
   ],
   "metadata": {
    "collapsed": false,
    "pycharm": {
     "name": "#%%\n"
    }
   }
  },
  {
   "cell_type": "code",
   "execution_count": 804,
   "outputs": [],
   "source": [],
   "metadata": {
    "collapsed": false,
    "pycharm": {
     "name": "#%%\n"
    }
   }
  },
  {
   "cell_type": "code",
   "execution_count": 805,
   "outputs": [
    {
     "name": "stderr",
     "output_type": "stream",
     "text": [
      "<ipython-input-805-ef58512964a3>:2: SettingWithCopyWarning: \n",
      "A value is trying to be set on a copy of a slice from a DataFrame.\n",
      "Try using .loc[row_indexer,col_indexer] = value instead\n",
      "\n",
      "See the caveats in the documentation: https://pandas.pydata.org/pandas-docs/stable/user_guide/indexing.html#returning-a-view-versus-a-copy\n",
      "  y['preprocessed_paragraphs'] = preprocess_paragraph(y['paragraph'])\n"
     ]
    }
   ],
   "source": [
    "X['preprocessed_paragraphs'] = preprocess_paragraph(X['paragraph'])\n",
    "y['preprocessed_paragraphs'] = preprocess_paragraph(y['paragraph'])"
   ],
   "metadata": {
    "collapsed": false,
    "pycharm": {
     "name": "#%%\n"
    }
   }
  },
  {
   "cell_type": "code",
   "execution_count": 806,
   "outputs": [],
   "source": [
    "X.to_csv('preprocessed.csv')\n",
    "y.to_csv('preprocessed_test.csv')\n"
   ],
   "metadata": {
    "collapsed": false,
    "pycharm": {
     "name": "#%%\n"
    }
   }
  },
  {
   "cell_type": "code",
   "execution_count": 807,
   "outputs": [
    {
     "data": {
      "text/plain": "                                              paragraph      genre  book  \\\n0     “Then I can wait in the next room”. “Not at al...  detective     0   \n1     “You did, Doctor, but none the less you must c...  detective     0   \n2     I did not gain very much, however, by my inspe...  detective     0   \n3     “How did you know, for example, that I did man...  detective     0   \n4     ”  “Well, but China? ”  “The fish that you hav...  detective     0   \n...                                                 ...        ...   ...   \n4649  Do I smell ginger? ” suspiciously asked Stubb,...  adventure     1   \n4650  Sea-coal? firewood? —lucifer matches? —tinder?...  adventure     1   \n4651  and may I ask whether this is the sort of bitt...  adventure     1   \n4652  It is the captain’s orders—grog for the harpoo...  adventure     1   \n4653  For the present other matters press, and the b...  adventure     1   \n\n      cluster  cluster_tf_idf  \\\n0           2               0   \n1           3               0   \n2           2               0   \n3           1               1   \n4           1               1   \n...       ...             ...   \n4649        4               1   \n4650        1               1   \n4651        2               1   \n4652        2               0   \n4653        3               0   \n\n                                preprocessed_paragraphs  \n0     wait next room gentleman partner helper many s...  \n1     none less must come round view otherwise shall...  \n2     gain much however inspection visitor bore ever...  \n3     know example manual labour true gospel began s...  \n4     fish tattooed immediately right wrist could do...  \n...                                                 ...  \n4649  smell ginger suspiciously asked coming near mu...  \n4650  firewood matches devil ginger say offer cup po...  \n4651  may ask whether sort bitters blows back life h...  \n4652  captains orders—grog harpooneer whale replied ...  \n4653  present matters press best head pray heaven ta...  \n\n[4654 rows x 6 columns]",
      "text/html": "<div>\n<style scoped>\n    .dataframe tbody tr th:only-of-type {\n        vertical-align: middle;\n    }\n\n    .dataframe tbody tr th {\n        vertical-align: top;\n    }\n\n    .dataframe thead th {\n        text-align: right;\n    }\n</style>\n<table border=\"1\" class=\"dataframe\">\n  <thead>\n    <tr style=\"text-align: right;\">\n      <th></th>\n      <th>paragraph</th>\n      <th>genre</th>\n      <th>book</th>\n      <th>cluster</th>\n      <th>cluster_tf_idf</th>\n      <th>preprocessed_paragraphs</th>\n    </tr>\n  </thead>\n  <tbody>\n    <tr>\n      <th>0</th>\n      <td>“Then I can wait in the next room”. “Not at al...</td>\n      <td>detective</td>\n      <td>0</td>\n      <td>2</td>\n      <td>0</td>\n      <td>wait next room gentleman partner helper many s...</td>\n    </tr>\n    <tr>\n      <th>1</th>\n      <td>“You did, Doctor, but none the less you must c...</td>\n      <td>detective</td>\n      <td>0</td>\n      <td>3</td>\n      <td>0</td>\n      <td>none less must come round view otherwise shall...</td>\n    </tr>\n    <tr>\n      <th>2</th>\n      <td>I did not gain very much, however, by my inspe...</td>\n      <td>detective</td>\n      <td>0</td>\n      <td>2</td>\n      <td>0</td>\n      <td>gain much however inspection visitor bore ever...</td>\n    </tr>\n    <tr>\n      <th>3</th>\n      <td>“How did you know, for example, that I did man...</td>\n      <td>detective</td>\n      <td>0</td>\n      <td>1</td>\n      <td>1</td>\n      <td>know example manual labour true gospel began s...</td>\n    </tr>\n    <tr>\n      <th>4</th>\n      <td>”  “Well, but China? ”  “The fish that you hav...</td>\n      <td>detective</td>\n      <td>0</td>\n      <td>1</td>\n      <td>1</td>\n      <td>fish tattooed immediately right wrist could do...</td>\n    </tr>\n    <tr>\n      <th>...</th>\n      <td>...</td>\n      <td>...</td>\n      <td>...</td>\n      <td>...</td>\n      <td>...</td>\n      <td>...</td>\n    </tr>\n    <tr>\n      <th>4649</th>\n      <td>Do I smell ginger? ” suspiciously asked Stubb,...</td>\n      <td>adventure</td>\n      <td>1</td>\n      <td>4</td>\n      <td>1</td>\n      <td>smell ginger suspiciously asked coming near mu...</td>\n    </tr>\n    <tr>\n      <th>4650</th>\n      <td>Sea-coal? firewood? —lucifer matches? —tinder?...</td>\n      <td>adventure</td>\n      <td>1</td>\n      <td>1</td>\n      <td>1</td>\n      <td>firewood matches devil ginger say offer cup po...</td>\n    </tr>\n    <tr>\n      <th>4651</th>\n      <td>and may I ask whether this is the sort of bitt...</td>\n      <td>adventure</td>\n      <td>1</td>\n      <td>2</td>\n      <td>1</td>\n      <td>may ask whether sort bitters blows back life h...</td>\n    </tr>\n    <tr>\n      <th>4652</th>\n      <td>It is the captain’s orders—grog for the harpoo...</td>\n      <td>adventure</td>\n      <td>1</td>\n      <td>2</td>\n      <td>0</td>\n      <td>captains orders—grog harpooneer whale replied ...</td>\n    </tr>\n    <tr>\n      <th>4653</th>\n      <td>For the present other matters press, and the b...</td>\n      <td>adventure</td>\n      <td>1</td>\n      <td>3</td>\n      <td>0</td>\n      <td>present matters press best head pray heaven ta...</td>\n    </tr>\n  </tbody>\n</table>\n<p>4654 rows × 6 columns</p>\n</div>"
     },
     "execution_count": 807,
     "metadata": {},
     "output_type": "execute_result"
    }
   ],
   "source": [
    "X"
   ],
   "metadata": {
    "collapsed": false,
    "pycharm": {
     "name": "#%%\n"
    }
   }
  },
  {
   "cell_type": "code",
   "execution_count": 808,
   "outputs": [],
   "source": [
    "from sklearn.feature_extraction.text import TfidfVectorizer\n",
    "vectorizer = TfidfVectorizer()\n",
    "X_pr = vectorizer.fit_transform(X['preprocessed_paragraphs'])\n",
    "y_pr = vectorizer.transform(y['preprocessed_paragraphs'])"
   ],
   "metadata": {
    "collapsed": false,
    "pycharm": {
     "name": "#%%\n"
    }
   }
  },
  {
   "cell_type": "code",
   "execution_count": 809,
   "outputs": [
    {
     "name": "stderr",
     "output_type": "stream",
     "text": [
      "<ipython-input-809-37c1a7ff6348>:3: SettingWithCopyWarning: \n",
      "A value is trying to be set on a copy of a slice from a DataFrame.\n",
      "Try using .loc[row_indexer,col_indexer] = value instead\n",
      "\n",
      "See the caveats in the documentation: https://pandas.pydata.org/pandas-docs/stable/user_guide/indexing.html#returning-a-view-versus-a-copy\n",
      "  y['cluster_tf_idf_pr'] = kmeans_tf_idf_pr.predict(y_pr)\n"
     ]
    }
   ],
   "source": [
    "n_clusters = 13\n",
    "kmeans_tf_idf_pr = KMeans(n_clusters=n_clusters, random_state=0).fit(X_pr)\n",
    "y['cluster_tf_idf_pr'] = kmeans_tf_idf_pr.predict(y_pr)"
   ],
   "metadata": {
    "collapsed": false,
    "pycharm": {
     "name": "#%%\n"
    }
   }
  },
  {
   "cell_type": "code",
   "execution_count": 810,
   "outputs": [],
   "source": [
    "X['cluster_tf_idf_pr'] = kmeans_tf_idf_pr.labels_"
   ],
   "metadata": {
    "collapsed": false,
    "pycharm": {
     "name": "#%%\n"
    }
   }
  },
  {
   "cell_type": "code",
   "execution_count": 811,
   "outputs": [
    {
     "name": "stdout",
     "output_type": "stream",
     "text": [
      "0: {'detective': 129, 'romance': 26, 'sci-fi': 376, 'horror': 64, 'adventure': 64}\n",
      "1: {'detective': 0, 'romance': 0, 'sci-fi': 0, 'horror': 0, 'adventure': 148}\n",
      "2: {'detective': 0, 'romance': 0, 'sci-fi': 0, 'horror': 146, 'adventure': 0}\n",
      "3: {'detective': 0, 'romance': 0, 'sci-fi': 336, 'horror': 0, 'adventure': 0}\n",
      "4: {'detective': 71, 'romance': 137, 'sci-fi': 117, 'horror': 110, 'adventure': 27}\n",
      "5: {'detective': 0, 'romance': 0, 'sci-fi': 0, 'horror': 15, 'adventure': 69}\n",
      "6: {'detective': 3, 'romance': 0, 'sci-fi': 0, 'horror': 0, 'adventure': 265}\n",
      "7: {'detective': 87, 'romance': 285, 'sci-fi': 16, 'horror': 121, 'adventure': 14}\n",
      "8: {'detective': 0, 'romance': 0, 'sci-fi': 54, 'horror': 120, 'adventure': 0}\n",
      "9: {'detective': 0, 'romance': 0, 'sci-fi': 0, 'horror': 0, 'adventure': 319}\n",
      "10: {'detective': 279, 'romance': 22, 'sci-fi': 4, 'horror': 48, 'adventure': 69}\n",
      "11: {'detective': 42, 'romance': 456, 'sci-fi': 0, 'horror': 0, 'adventure': 2}\n",
      "12: {'detective': 295, 'romance': 52, 'sci-fi': 97, 'horror': 146, 'adventure': 23}\n",
      "\n",
      "0: sci-fi\n",
      "1: adventure\n",
      "2: horror\n",
      "3: sci-fi\n",
      "4: romance\n",
      "5: adventure\n",
      "6: adventure\n",
      "7: romance\n",
      "8: horror\n",
      "9: adventure\n",
      "10: detective\n",
      "11: romance\n",
      "12: detective\n"
     ]
    }
   ],
   "source": [
    "cluster_assigning_pr = ['' for x in range(n_clusters)]\n",
    "for cluster in range(n_clusters):\n",
    "    genre_occurence_ = {'detective': 0, 'romance': 0, 'sci-fi': 0, 'horror': 0, 'adventure': 0}\n",
    "    for genre in X[X['cluster_tf_idf_pr'] == cluster]['genre']:\n",
    "        genre_occurence_[genre] = genre_occurence_[genre] + 1\n",
    "    print(f'{cluster}: {genre_occurence_}')\n",
    "    cluster_assigning_pr[cluster] = max(genre_occurence_, key=genre_occurence_.get)\n",
    "print()\n",
    "for indx, cluster in enumerate(cluster_assigning_pr):\n",
    "    print(f'{indx}: {cluster}')"
   ],
   "metadata": {
    "collapsed": false,
    "pycharm": {
     "name": "#%%\n"
    }
   }
  },
  {
   "cell_type": "code",
   "execution_count": 812,
   "outputs": [
    {
     "data": {
      "text/plain": "0     164\n10    121\n7      78\n6      57\n4      32\n12     28\n11     19\n9       1\nName: cluster_tf_idf_pr, dtype: int64"
     },
     "execution_count": 812,
     "metadata": {},
     "output_type": "execute_result"
    }
   ],
   "source": [
    "y[y['book'] == 0]['cluster_tf_idf_pr'].value_counts()"
   ],
   "metadata": {
    "collapsed": false,
    "pycharm": {
     "name": "#%%\n"
    }
   }
  },
  {
   "cell_type": "code",
   "execution_count": 813,
   "outputs": [
    {
     "data": {
      "text/plain": "10    129\n0     112\n12    100\n4      85\n11     45\n7      22\n9       7\nName: cluster_tf_idf_pr, dtype: int64"
     },
     "execution_count": 813,
     "metadata": {},
     "output_type": "execute_result"
    }
   ],
   "source": [
    "y[y['book'] == 1]['cluster_tf_idf_pr'].value_counts()"
   ],
   "metadata": {
    "collapsed": false,
    "pycharm": {
     "name": "#%%\n"
    }
   }
  },
  {
   "cell_type": "code",
   "execution_count": 814,
   "outputs": [
    {
     "data": {
      "text/plain": "12    214\n0     154\n7      69\n10     25\n4      19\n8      18\n11      1\nName: cluster_tf_idf_pr, dtype: int64"
     },
     "execution_count": 814,
     "metadata": {},
     "output_type": "execute_result"
    }
   ],
   "source": [
    "y[y['book'] == 2]['cluster_tf_idf_pr'].value_counts()"
   ],
   "metadata": {
    "collapsed": false,
    "pycharm": {
     "name": "#%%\n"
    }
   }
  },
  {
   "cell_type": "code",
   "execution_count": 815,
   "outputs": [
    {
     "data": {
      "text/plain": "5"
     },
     "execution_count": 815,
     "metadata": {},
     "output_type": "execute_result"
    }
   ],
   "source": [
    "len(set(cluster_assigning_pr))"
   ],
   "metadata": {
    "collapsed": false,
    "pycharm": {
     "name": "#%%\n"
    }
   }
  },
  {
   "cell_type": "code",
   "execution_count": 816,
   "outputs": [
    {
     "name": "stdout",
     "output_type": "stream",
     "text": [
      "\n",
      "Cluster 0\n",
      "right,cant,cried,face,could,way,said,youre,know,like,man,us,got\n",
      "\n",
      "Cluster 1\n",
      "would,may,us,replied,hast,see,say,art,worship,said,thy,thee,thou\n",
      "\n",
      "Cluster 2\n",
      "may,tricks,player,one,game,hand,cards,two,strength,partner,declaration,bid,suit\n",
      "\n",
      "Cluster 3\n",
      "mission,days,solar,said,back,would,need,suit,time,wil,get,rover,al\n",
      "\n",
      "Cluster 4\n",
      "us,say,got,want,looked,one,go,think,like,going,know,asked,said\n",
      "\n",
      "Cluster 5\n",
      "cried,surface,us,three,cage,old,pull,men,said,harpoon,boat,shark,ye\n",
      "\n",
      "Cluster 6\n",
      "boats,ships,man,yet,though,like,boat,one,upon,sea,whales,ship,whale\n",
      "\n",
      "Cluster 7\n",
      "felt,come,time,one,came,thought,back,go,away,went,said,could,would\n",
      "\n",
      "Cluster 8\n",
      "got,cant,beaches,shark,looked,boat,boy,fish,think,want,know,said,dont\n",
      "\n",
      "Cluster 9\n",
      "great,know,made,us,may,good,say,without,master,curate,one,would,said\n",
      "\n",
      "Cluster 10\n",
      "see,said,case,think,old,little,must,shall,may,would,one,man,upon\n",
      "\n",
      "Cluster 11\n",
      "every,father,family,think,never,soon,said,know,sister,much,must,would,could\n",
      "\n",
      "Cluster 12\n",
      "upon,see,like,hand,little,head,looked,one,said,face,back,room,door\n"
     ]
    }
   ],
   "source": [
    "get_top_keywords(X_pr, X['cluster_tf_idf_pr'], vectorizer.get_feature_names_out(), n_clusters)"
   ],
   "metadata": {
    "collapsed": false,
    "pycharm": {
     "name": "#%%\n"
    }
   }
  },
  {
   "cell_type": "code",
   "execution_count": 817,
   "outputs": [
    {
     "data": {
      "text/plain": "3"
     },
     "execution_count": 817,
     "metadata": {},
     "output_type": "execute_result"
    }
   ],
   "source": [
    "len(X[(X['genre'] == 'horror') & (X['book'] == 1) & ((X['cluster_tf_idf_pr'] == 0))])"
   ],
   "metadata": {
    "collapsed": false,
    "pycharm": {
     "name": "#%%\n"
    }
   }
  },
  {
   "cell_type": "code",
   "execution_count": 818,
   "outputs": [
    {
     "data": {
      "text/plain": "                                              paragraph      genre  book\n0     “Then I can wait in the next room”. “Not at al...  detective     0\n1     “You did, Doctor, but none the less you must c...  detective     0\n2     I did not gain very much, however, by my inspe...  detective     0\n3     “How did you know, for example, that I did man...  detective     0\n4     ”  “Well, but China? ”  “The fish that you hav...  detective     0\n...                                                 ...        ...   ...\n6149  And generally I will allow myself the boldness...       test     2\n6150  There are things in which neither barriers of ...       test     2\n6151  In these seven golden claws' burned thick wax ...       test     2\n6152  Hella rose and bowed to Margarita. The cat, ju...       test     2\n6153  Woland, broadly sprawled on the bed, was weari...       test     2\n\n[6154 rows x 3 columns]",
      "text/html": "<div>\n<style scoped>\n    .dataframe tbody tr th:only-of-type {\n        vertical-align: middle;\n    }\n\n    .dataframe tbody tr th {\n        vertical-align: top;\n    }\n\n    .dataframe thead th {\n        text-align: right;\n    }\n</style>\n<table border=\"1\" class=\"dataframe\">\n  <thead>\n    <tr style=\"text-align: right;\">\n      <th></th>\n      <th>paragraph</th>\n      <th>genre</th>\n      <th>book</th>\n    </tr>\n  </thead>\n  <tbody>\n    <tr>\n      <th>0</th>\n      <td>“Then I can wait in the next room”. “Not at al...</td>\n      <td>detective</td>\n      <td>0</td>\n    </tr>\n    <tr>\n      <th>1</th>\n      <td>“You did, Doctor, but none the less you must c...</td>\n      <td>detective</td>\n      <td>0</td>\n    </tr>\n    <tr>\n      <th>2</th>\n      <td>I did not gain very much, however, by my inspe...</td>\n      <td>detective</td>\n      <td>0</td>\n    </tr>\n    <tr>\n      <th>3</th>\n      <td>“How did you know, for example, that I did man...</td>\n      <td>detective</td>\n      <td>0</td>\n    </tr>\n    <tr>\n      <th>4</th>\n      <td>”  “Well, but China? ”  “The fish that you hav...</td>\n      <td>detective</td>\n      <td>0</td>\n    </tr>\n    <tr>\n      <th>...</th>\n      <td>...</td>\n      <td>...</td>\n      <td>...</td>\n    </tr>\n    <tr>\n      <th>6149</th>\n      <td>And generally I will allow myself the boldness...</td>\n      <td>test</td>\n      <td>2</td>\n    </tr>\n    <tr>\n      <th>6150</th>\n      <td>There are things in which neither barriers of ...</td>\n      <td>test</td>\n      <td>2</td>\n    </tr>\n    <tr>\n      <th>6151</th>\n      <td>In these seven golden claws' burned thick wax ...</td>\n      <td>test</td>\n      <td>2</td>\n    </tr>\n    <tr>\n      <th>6152</th>\n      <td>Hella rose and bowed to Margarita. The cat, ju...</td>\n      <td>test</td>\n      <td>2</td>\n    </tr>\n    <tr>\n      <th>6153</th>\n      <td>Woland, broadly sprawled on the bed, was weari...</td>\n      <td>test</td>\n      <td>2</td>\n    </tr>\n  </tbody>\n</table>\n<p>6154 rows × 3 columns</p>\n</div>"
     },
     "execution_count": 818,
     "metadata": {},
     "output_type": "execute_result"
    }
   ],
   "source": [
    "data"
   ],
   "metadata": {
    "collapsed": false,
    "pycharm": {
     "name": "#%%\n"
    }
   }
  },
  {
   "cell_type": "code",
   "execution_count": 818,
   "outputs": [],
   "source": [],
   "metadata": {
    "collapsed": false,
    "pycharm": {
     "name": "#%%\n"
    }
   }
  },
  {
   "cell_type": "code",
   "execution_count": 819,
   "outputs": [
    {
     "data": {
      "text/plain": "<Figure size 1224x432 with 2 Axes>",
      "image/png": "[encoded data removed]"
     },
     "metadata": {
      "needs_background": "light"
     },
     "output_type": "display_data"
    }
   ],
   "source": [
    "from sklearn.metrics import silhouette_score\n",
    "import matplotlib.pyplot as plt\n",
    "\n",
    "def find_optimal_clusters(data, max_k):\n",
    "    iters = range(2, max_k+1)\n",
    "\n",
    "    sse = []\n",
    "    sil = []\n",
    "    for k in iters:\n",
    "        clusters = KMeans(n_clusters=k, random_state=5).fit(data)\n",
    "        sse.append(clusters.inertia_) #get sse for every cluster for elbow method\n",
    "        sil.append(silhouette_score(data, clusters.labels_, metric = 'euclidean')) #get Silhouette score for Silhouette method\n",
    "\n",
    "    f, ax = plt.subplots(1, 2, figsize=(17, 6))\n",
    "\n",
    "    #plot results of Elbow method\n",
    "    ax[0].plot(iters, sse, marker='o')\n",
    "    ax[0].set_xlabel('Cluster Centers')\n",
    "    ax[0].set_xticks(iters)\n",
    "    ax[0].set_xticklabels(iters)\n",
    "    ax[0].set_ylabel('SSE')\n",
    "    ax[0].set_title('Elbow Method')\n",
    "\n",
    "    #plot results of Silhouette method\n",
    "    ax[1].plot(iters, sil, marker='o')\n",
    "    ax[1].set_xlabel('Cluster Centers')\n",
    "    ax[1].set_xticks(iters)\n",
    "    ax[1].set_xticklabels(iters)\n",
    "    ax[1].set_ylabel('Silhouette score')\n",
    "    ax[1].set_title('Silhouette Method')\n",
    "\n",
    "find_optimal_clusters(X_pr, 15)"
   ],
   "metadata": {
    "collapsed": false,
    "pycharm": {
     "name": "#%%\n"
    }
   }
  },
  {
   "cell_type": "code",
   "execution_count": 820,
   "outputs": [
    {
     "data": {
      "text/plain": "                                              paragraph genre  book  cluster  \\\n4654  \"Well, Mr. Benedict,\" retorted Captain Hull, \"...  test     0        1   \n4655  \"I believe so, indeed,\" retorted Captain Hull,...  test     0        3   \n4656  But the colossal pupil listened so quietly to ...  test     0        2   \n4657  It was on the morning of February 9th, Jack, h...  test     0        2   \n4658  But Dingo had returned, and, beginning the sam...  test     0        1   \n...                                                 ...   ...   ...      ...   \n6149  And generally I will allow myself the boldness...  test     2        2   \n6150  There are things in which neither barriers of ...  test     2        2   \n6151  In these seven golden claws' burned thick wax ...  test     2        2   \n6152  Hella rose and bowed to Margarita. The cat, ju...  test     2        2   \n6153  Woland, broadly sprawled on the bed, was weari...  test     2        2   \n\n      cluster_tf_idf                            preprocessed_paragraphs  \\\n4654               1  retorted said long entomologist asked quickly ...   \n4655               0  believe indeed retorted gravely never existed ...   \n4656               0  colossal pupil listened quietly professors les...   \n4657               0  morning halflying deck amusing forming word ol...   \n4658               0  returned beginning performance seized another ...   \n...              ...                                                ...   \n6149               0  generally allow boldness advising never afraid...   \n6150               0  things neither barriers rank even borders coun...   \n6151               0  seven golden claws burned thick wax candles ta...   \n6152               0  rose bowed cat jumping tabouret likewise right...   \n6153               0  broadly sprawled bed wearing nothing long nigh...   \n\n      cluster_tf_idf_pr  \n4654                  4  \n4655                  7  \n4656                 10  \n4657                  7  \n4658                 12  \n...                 ...  \n6149                 10  \n6150                 12  \n6151                 12  \n6152                 12  \n6153                 12  \n\n[1500 rows x 7 columns]",
      "text/html": "<div>\n<style scoped>\n    .dataframe tbody tr th:only-of-type {\n        vertical-align: middle;\n    }\n\n    .dataframe tbody tr th {\n        vertical-align: top;\n    }\n\n    .dataframe thead th {\n        text-align: right;\n    }\n</style>\n<table border=\"1\" class=\"dataframe\">\n  <thead>\n    <tr style=\"text-align: right;\">\n      <th></th>\n      <th>paragraph</th>\n      <th>genre</th>\n      <th>book</th>\n      <th>cluster</th>\n      <th>cluster_tf_idf</th>\n      <th>preprocessed_paragraphs</th>\n      <th>cluster_tf_idf_pr</th>\n    </tr>\n  </thead>\n  <tbody>\n    <tr>\n      <th>4654</th>\n      <td>\"Well, Mr. Benedict,\" retorted Captain Hull, \"...</td>\n      <td>test</td>\n      <td>0</td>\n      <td>1</td>\n      <td>1</td>\n      <td>retorted said long entomologist asked quickly ...</td>\n      <td>4</td>\n    </tr>\n    <tr>\n      <th>4655</th>\n      <td>\"I believe so, indeed,\" retorted Captain Hull,...</td>\n      <td>test</td>\n      <td>0</td>\n      <td>3</td>\n      <td>0</td>\n      <td>believe indeed retorted gravely never existed ...</td>\n      <td>7</td>\n    </tr>\n    <tr>\n      <th>4656</th>\n      <td>But the colossal pupil listened so quietly to ...</td>\n      <td>test</td>\n      <td>0</td>\n      <td>2</td>\n      <td>0</td>\n      <td>colossal pupil listened quietly professors les...</td>\n      <td>10</td>\n    </tr>\n    <tr>\n      <th>4657</th>\n      <td>It was on the morning of February 9th, Jack, h...</td>\n      <td>test</td>\n      <td>0</td>\n      <td>2</td>\n      <td>0</td>\n      <td>morning halflying deck amusing forming word ol...</td>\n      <td>7</td>\n    </tr>\n    <tr>\n      <th>4658</th>\n      <td>But Dingo had returned, and, beginning the sam...</td>\n      <td>test</td>\n      <td>0</td>\n      <td>1</td>\n      <td>0</td>\n      <td>returned beginning performance seized another ...</td>\n      <td>12</td>\n    </tr>\n    <tr>\n      <th>...</th>\n      <td>...</td>\n      <td>...</td>\n      <td>...</td>\n      <td>...</td>\n      <td>...</td>\n      <td>...</td>\n      <td>...</td>\n    </tr>\n    <tr>\n      <th>6149</th>\n      <td>And generally I will allow myself the boldness...</td>\n      <td>test</td>\n      <td>2</td>\n      <td>2</td>\n      <td>0</td>\n      <td>generally allow boldness advising never afraid...</td>\n      <td>10</td>\n    </tr>\n    <tr>\n      <th>6150</th>\n      <td>There are things in which neither barriers of ...</td>\n      <td>test</td>\n      <td>2</td>\n      <td>2</td>\n      <td>0</td>\n      <td>things neither barriers rank even borders coun...</td>\n      <td>12</td>\n    </tr>\n    <tr>\n      <th>6151</th>\n      <td>In these seven golden claws' burned thick wax ...</td>\n      <td>test</td>\n      <td>2</td>\n      <td>2</td>\n      <td>0</td>\n      <td>seven golden claws burned thick wax candles ta...</td>\n      <td>12</td>\n    </tr>\n    <tr>\n      <th>6152</th>\n      <td>Hella rose and bowed to Margarita. The cat, ju...</td>\n      <td>test</td>\n      <td>2</td>\n      <td>2</td>\n      <td>0</td>\n      <td>rose bowed cat jumping tabouret likewise right...</td>\n      <td>12</td>\n    </tr>\n    <tr>\n      <th>6153</th>\n      <td>Woland, broadly sprawled on the bed, was weari...</td>\n      <td>test</td>\n      <td>2</td>\n      <td>2</td>\n      <td>0</td>\n      <td>broadly sprawled bed wearing nothing long nigh...</td>\n      <td>12</td>\n    </tr>\n  </tbody>\n</table>\n<p>1500 rows × 7 columns</p>\n</div>"
     },
     "execution_count": 820,
     "metadata": {},
     "output_type": "execute_result"
    }
   ],
   "source": [
    "y"
   ],
   "metadata": {
    "collapsed": false,
    "pycharm": {
     "name": "#%%\n"
    }
   }
  },
  {
   "cell_type": "code",
   "execution_count": 867,
   "outputs": [
    {
     "data": {
      "text/plain": "     index                                          paragraph      genre  \\\n0     3655  Not so did Sancho Panza spend it, for having h...  adventure   \n1     3657  Sancho Panza, when he saw the friar on the gro...  adventure   \n2     3663  To which Don Quixote replied, “Thou must take ...  adventure   \n3     3664  “What vial and what balsam is that? ” said San...  adventure   \n4     3665  Hearing this, Sancho said to him, “Your worshi...  adventure   \n..     ...                                                ...        ...   \n143   4236  However, it is always as well to have a look a...  adventure   \n144   4254  “I don’t know anything about Deacon Deuteronom...  adventure   \n145   4258  He got so frightened about his plaguy soul, th...  adventure   \n146   4384  art not game for Moby Dick? ”  “I am game for ...  adventure   \n147   4389  From this one poor hunt, then, the best lance ...  adventure   \n\n     book  cluster  cluster_tf_idf  \\\n0       0        0               4   \n1       0        0               4   \n2       0        0               4   \n3       0        0               4   \n4       0        0               4   \n..    ...      ...             ...   \n143     1        1               1   \n144     1        2               1   \n145     1        2               0   \n146     1        2               1   \n147     1        4               1   \n\n                               preprocessed_paragraphs  cluster_tf_idf_pr  \n0    spend stomach full something stronger chicory ...                  1  \n1    saw friar ground dismounting briskly ass rushe...                  1  \n2    replied must take notice brother adventure lik...                  1  \n3    vial balsam said balsam answered receipt memor...                  1  \n4    said worship bear mind knight done commanded g...                  1  \n..                                                 ...                ...  \n143  always well look irrevocably committing hands ...                  1  \n144  know anything meeting said know born member de...                  1  \n145  got frightened plaguy soul shrinked sheered aw...                  1  \n146  art game game crooked jaw jaws fairly comes wa...                  1  \n147  one poor hunt best lance surely hang back ever...                  1  \n\n[148 rows x 8 columns]",
      "text/html": "<div>\n<style scoped>\n    .dataframe tbody tr th:only-of-type {\n        vertical-align: middle;\n    }\n\n    .dataframe tbody tr th {\n        vertical-align: top;\n    }\n\n    .dataframe thead th {\n        text-align: right;\n    }\n</style>\n<table border=\"1\" class=\"dataframe\">\n  <thead>\n    <tr style=\"text-align: right;\">\n      <th></th>\n      <th>index</th>\n      <th>paragraph</th>\n      <th>genre</th>\n      <th>book</th>\n      <th>cluster</th>\n      <th>cluster_tf_idf</th>\n      <th>preprocessed_paragraphs</th>\n      <th>cluster_tf_idf_pr</th>\n    </tr>\n  </thead>\n  <tbody>\n    <tr>\n      <th>0</th>\n      <td>3655</td>\n      <td>Not so did Sancho Panza spend it, for having h...</td>\n      <td>adventure</td>\n      <td>0</td>\n      <td>0</td>\n      <td>4</td>\n      <td>spend stomach full something stronger chicory ...</td>\n      <td>1</td>\n    </tr>\n    <tr>\n      <th>1</th>\n      <td>3657</td>\n      <td>Sancho Panza, when he saw the friar on the gro...</td>\n      <td>adventure</td>\n      <td>0</td>\n      <td>0</td>\n      <td>4</td>\n      <td>saw friar ground dismounting briskly ass rushe...</td>\n      <td>1</td>\n    </tr>\n    <tr>\n      <th>2</th>\n      <td>3663</td>\n      <td>To which Don Quixote replied, “Thou must take ...</td>\n      <td>adventure</td>\n      <td>0</td>\n      <td>0</td>\n      <td>4</td>\n      <td>replied must take notice brother adventure lik...</td>\n      <td>1</td>\n    </tr>\n    <tr>\n      <th>3</th>\n      <td>3664</td>\n      <td>“What vial and what balsam is that? ” said San...</td>\n      <td>adventure</td>\n      <td>0</td>\n      <td>0</td>\n      <td>4</td>\n      <td>vial balsam said balsam answered receipt memor...</td>\n      <td>1</td>\n    </tr>\n    <tr>\n      <th>4</th>\n      <td>3665</td>\n      <td>Hearing this, Sancho said to him, “Your worshi...</td>\n      <td>adventure</td>\n      <td>0</td>\n      <td>0</td>\n      <td>4</td>\n      <td>said worship bear mind knight done commanded g...</td>\n      <td>1</td>\n    </tr>\n    <tr>\n      <th>...</th>\n      <td>...</td>\n      <td>...</td>\n      <td>...</td>\n      <td>...</td>\n      <td>...</td>\n      <td>...</td>\n      <td>...</td>\n      <td>...</td>\n    </tr>\n    <tr>\n      <th>143</th>\n      <td>4236</td>\n      <td>However, it is always as well to have a look a...</td>\n      <td>adventure</td>\n      <td>1</td>\n      <td>1</td>\n      <td>1</td>\n      <td>always well look irrevocably committing hands ...</td>\n      <td>1</td>\n    </tr>\n    <tr>\n      <th>144</th>\n      <td>4254</td>\n      <td>“I don’t know anything about Deacon Deuteronom...</td>\n      <td>adventure</td>\n      <td>1</td>\n      <td>2</td>\n      <td>1</td>\n      <td>know anything meeting said know born member de...</td>\n      <td>1</td>\n    </tr>\n    <tr>\n      <th>145</th>\n      <td>4258</td>\n      <td>He got so frightened about his plaguy soul, th...</td>\n      <td>adventure</td>\n      <td>1</td>\n      <td>2</td>\n      <td>0</td>\n      <td>got frightened plaguy soul shrinked sheered aw...</td>\n      <td>1</td>\n    </tr>\n    <tr>\n      <th>146</th>\n      <td>4384</td>\n      <td>art not game for Moby Dick? ”  “I am game for ...</td>\n      <td>adventure</td>\n      <td>1</td>\n      <td>2</td>\n      <td>1</td>\n      <td>art game game crooked jaw jaws fairly comes wa...</td>\n      <td>1</td>\n    </tr>\n    <tr>\n      <th>147</th>\n      <td>4389</td>\n      <td>From this one poor hunt, then, the best lance ...</td>\n      <td>adventure</td>\n      <td>1</td>\n      <td>4</td>\n      <td>1</td>\n      <td>one poor hunt best lance surely hang back ever...</td>\n      <td>1</td>\n    </tr>\n  </tbody>\n</table>\n<p>148 rows × 8 columns</p>\n</div>"
     },
     "execution_count": 867,
     "metadata": {},
     "output_type": "execute_result"
    }
   ],
   "source": [
    "X[(X['genre'] == 'adventure') & ((X['cluster_tf_idf_pr'] == 1))].reset_index()"
   ],
   "metadata": {
    "collapsed": false,
    "pycharm": {
     "name": "#%%\n"
    }
   }
  },
  {
   "cell_type": "code",
   "execution_count": 866,
   "outputs": [
    {
     "data": {
      "text/plain": "'He picked out from his bundle a copy of the local Herefordshire paper, and having turned down the sheet he pointed out the paragraph in which the unfortunate young man had given his own statement of what had occurred. I settled myself down in the corner of the carriage and read it very carefully. It ran in this way:  “Mr. James McCarthy, the only son of the deceased, was then called and gave evidence as follows: ‘I had been away from home for three days at Bristol, and had only just returned upon the morning of last Monday, the 3rd. My father was absent from home at the time of my arrival, and I was informed by the maid that he had driven over to Ross with John Cobb, the groom. Shortly after my return I heard the wheels of his trap in the yard, and, looking out of my window, I saw him get out and walk rapidly out of the yard, though I was not aware in which direction he was going. I then took my gun and strolled out in the direction of the Boscombe Pool, with the intention of visiting the rabbit warren which is upon the other side. On my way I saw William Crowder, the game-keeper, as he had stated in his evidence; but he is mistaken in thinking that I was following my father. I had no idea that he was in front of me. When about a hundred yards from the pool I heard a cry of “Cooee! ” which was a usual signal between my father and myself.'"
     },
     "execution_count": 866,
     "metadata": {},
     "output_type": "execute_result"
    }
   ],
   "source": [
    "X[(X['genre'] == 'detective') & ((X['cluster_tf_idf_pr'] == 12))].iloc[19]['paragraph']"
   ],
   "metadata": {
    "collapsed": false,
    "pycharm": {
     "name": "#%%\n"
    }
   }
  },
  {
   "cell_type": "code",
   "execution_count": 872,
   "outputs": [
    {
     "data": {
      "text/plain": "    index                                          paragraph genre  book  \\\n0    4673  On the \"Pilgrim,\" which peculiar circumstances...  test     0   \n1    4674  Besides, life always manifests itself above as...  test     0   \n2    4678  Do you see, Mrs. Weldon, when we whalers, duri...  test     0   \n3    4679  \"You think right, Jack,\" observed Dick Sand, \"...  test     0   \n4    4680  Whalers could not be mistaken in it. But the d...  test     0   \n5    4681  The hunters of large game, they say, are more ...  test     0   \n6    4683  \"Yes, my boy! and when we think that the great...  test     0   \n7    4685  said one of the sailors, \"a fine jubarte is al...  test     0   \n8    4686  \"Mama, mama\"! then cried little Jack, \"I shoul...  test     0   \n9    4687  \"This will not be the first time that I have f...  test     0   \n10   4688  Could fishermen let such an occasion escape th...  test     0   \n11   4690  Dick Sand would have wished to take part in th...  test     0   \n12   4691  But the \"Pilgrim\" was not furnished with appar...  test     0   \n13   4692  Such were the different weapons which were car...  test     0   \n14   4694  \"On nothing just now,\" replied Dick Sand, smil...  test     0   \n15   4696  Besides, that sea, so fine, was marvelously co...  test     0   \n16   4697  \"Sometimes,\" observed Cousin Benedict, \"we fin...  test     0   \n17   4698  Then the sailors, shod in boots, with cramp-ho...  test     0   \n18   4699  The jubarte was all this time swimming in the ...  test     0   \n19   4700  \"Count on me, sir\". \"One eye for the ship, one...  test     0   \n20   4703  THE JUBARTE. Captain Hull, an experienced whal...  test     0   \n21   4705  The starboard oars still sank in the green and...  test     0   \n22   4706  This optical illusion evidently takes place be...  test     0   \n23   4707  repeated Captain Hull. Five minutes later the ...  test     0   \n24   4709  Captain Hull, holding his harpoon by the middl...  test     0   \n25   4710  The mother was evidently going to defend herse...  test     0   \n26   4711  Howik kept it steady, notwithstanding those ra...  test     0   \n27   4714  At that moment, the \"Pilgrim\" was more than fi...  test     0   \n28   4715  Howik worked skilfully then, and held himself ...  test     0   \n29   4717  Steer, Howik, steer\"! The jubarte, in fact, ha...  test     0   \n30   4718  The whale-boat almost capsized, and, the water...  test     0   \n31   4720  \"Present\"! replied the boatswain, as he got up...  test     0   \n32   4721  The whale was going to fight for two. Captain ...  test     0   \n33   4722  \"Attention, Howik\"! cried Captain Hull, for th...  test     0   \n34   4725  Yes! They could not too earnestly implore the ...  test     0   \n35   4735  \"Besides, in standing in for the land, I do no...  test     0   \n36   4756  Then the progress was more rapid, and he longe...  test     0   \n37   4759  During this time Tom or his son Bat took his p...  test     0   \n38   4764  The wind from the northwest freshened graduall...  test     0   \n39   4775  Two or three times the barometer rose again, b...  test     0   \n40   4777  The novice kept at the prow, sometimes observi...  test     0   \n41   4783  It was a real tempest which was raging, and su...  test     0   \n42   4785  When heavy cannons, carrying balls of twenty-f...  test     0   \n43   4791  He will regale the fishes, who are not hard to...  test     0   \n44   4803  I know, at last, where the tempest has blown u...  test     0   \n45   4805  There was, then, this interminable hurricane, ...  test     0   \n46   4813  At last, on that day, at ten o'clock in the mo...  test     0   \n47   4814  Sometimes it was extinguished behind a large m...  test     0   \n48   4824  With the reduced sail which she carried, the w...  test     0   \n49   4827  Hercules would take charge of Mrs. Weldon. The...  test     0   \n50   4828  Each moment the novice thought that the vessel...  test     0   \n51   4832  There were high baobabs--to which, however, an...  test     0   \n52   4847  In the midst of the _débris_ of all kinds stoo...  test     0   \n53   4969  From the start, also, he had to attend to the ...  test     0   \n54   4982  \"Now, I was always waiting for an opportunity,...  test     0   \n55   4983  \"But,\" asked Harris, \"according to what my you...  test     0   \n56   4984  On that day, then, only two sailors remained o...  test     0   \n\n    cluster  cluster_tf_idf  \\\n0         2               0   \n1         3               0   \n2         2               0   \n3         2               0   \n4         3               0   \n5         1               0   \n6         1               0   \n7         1               0   \n8         4               1   \n9         4               0   \n10        2               0   \n11        3               0   \n12        2               0   \n13        2               0   \n14        1               1   \n15        4               1   \n16        2               0   \n17        2               0   \n18        2               0   \n19        1               0   \n20        1               0   \n21        1               0   \n22        1               0   \n23        2               0   \n24        2               0   \n25        2               2   \n26        2               0   \n27        2               0   \n28        4               1   \n29        2               0   \n30        1               0   \n31        4               0   \n32        1               0   \n33        1               0   \n34        1               0   \n35        2               0   \n36        2               0   \n37        2               0   \n38        2               0   \n39        2               0   \n40        1               0   \n41        1               0   \n42        2               2   \n43        2               0   \n44        2               0   \n45        1               0   \n46        2               0   \n47        2               0   \n48        2               0   \n49        2               0   \n50        1               0   \n51        3               0   \n52        2               0   \n53        3               0   \n54        1               0   \n55        2               1   \n56        1               0   \n\n                              preprocessed_paragraphs  cluster_tf_idf_pr  \n0   peculiar circumstances obliged leave fishing g...                  6  \n1   life always manifests well seas passengers cou...                  6  \n2   see whalers fishing season arrive sight shoal ...                  6  \n3   think right observed lose time picking crustac...                  6  \n4   could mistaken distance still considerable mak...                  6  \n5   hunters large game say eager hunters small gam...                  6  \n6   boy think great beast process breakfasting lit...                  6  \n7   said one sailors fine jubarte fine capture pro...                  6  \n8   mama cried little like whale see made wish wha...                  6  \n9   first time followed trade harpooner added see ...                  6  \n10  fishermen let occasion escape believed ought a...                  6  \n11  would wished take part fishing great attractio...                  6  \n12  furnished apparatus kind besides instrument hi...                  6  \n13  different weapons carefully disposed front boa...                  6  \n14  nothing replied smiling service continued colo...                  6  \n15  sea fine marvelously conducive pursuit cetacea...                  6  \n16  observed find rather curious insects back larg...                  6  \n17  sailors shod boots cramphooks would take place...                  6  \n18  jubarte time swimming middle vast red field cr...                  6  \n19  sir eye ship one eye whaleboat boy forget shal...                  6  \n20  experienced whaler would leave nothing chance ...                  6  \n21  starboard oars still sank green limpid water l...                  6  \n22  optical illusion evidently takes place points ...                  6  \n23  repeated minutes later whaleboat cables length...                  6  \n24  holding harpoon middle handle balanced several...                  6  \n25  mother evidently going defend greater fury muc...                  6  \n26  kept steady notwithstanding rapid frightful os...                  6  \n27  moment five miles leeward whaleboat hoisting f...                  6  \n28  worked skilfully held ready make boat turn rap...                  6  \n29  steer jubarte fact turned manner present front...                  6  \n30  whaleboat almost capsized water rushing side h...                  6  \n31  replied boatswain got perceived fall stern oar...                  6  \n32  whale going fight two looked toward hand shook...                  6  \n33  cried last time boatswain speak disarmed lever...                  6  \n34  could earnestly implore aid things situation o...                  6  \n35  standing land renounce hope encountering vesse...                  6  \n36  progress rapid longed less desolate parts said...                  6  \n37  time son took place wheel helm thanks counsels...                  6  \n38  wind northwest freshened gradually sailed rapi...                  6  \n39  three times barometer rose oscillation compris...                  6  \n40  novice kept prow sometimes observing sea sky s...                  6  \n41  real tempest raging could carry even little sa...                  6  \n42  heavy cannons carrying balls twentyfour pounds...                  6  \n43  regale fishes hard please yet replied rose soo...                  6  \n44  know last tempest blown us abates shall able l...                  6  \n45  interminable hurricane whose fury nothing seem...                  6  \n46  last day ten oclock morning sailing foresail t...                  6  \n47  extinguished behind large mass vapors came eas...                  6  \n48  reduced sail carried winds driving coast would...                  6  \n49  would take charge novice took little care tran...                  6  \n50  moment novice thought vessels keel going strik...                  6  \n51  high baobabsto however extraordinary longevity...                  6  \n52  midst kinds stood ships carcass high sea partl...                  6  \n53  start also attend carrying boats pass insupera...                  6  \n54  always waiting opportunity long coming whaler ...                  6  \n55  asked young friend told set sail coast arrived...                  6  \n56  day two sailors remained boardthe novice cook ...                  6  ",
      "text/html": "<div>\n<style scoped>\n    .dataframe tbody tr th:only-of-type {\n        vertical-align: middle;\n    }\n\n    .dataframe tbody tr th {\n        vertical-align: top;\n    }\n\n    .dataframe thead th {\n        text-align: right;\n    }\n</style>\n<table border=\"1\" class=\"dataframe\">\n  <thead>\n    <tr style=\"text-align: right;\">\n      <th></th>\n      <th>index</th>\n      <th>paragraph</th>\n      <th>genre</th>\n      <th>book</th>\n      <th>cluster</th>\n      <th>cluster_tf_idf</th>\n      <th>preprocessed_paragraphs</th>\n      <th>cluster_tf_idf_pr</th>\n    </tr>\n  </thead>\n  <tbody>\n    <tr>\n      <th>0</th>\n      <td>4673</td>\n      <td>On the \"Pilgrim,\" which peculiar circumstances...</td>\n      <td>test</td>\n      <td>0</td>\n      <td>2</td>\n      <td>0</td>\n      <td>peculiar circumstances obliged leave fishing g...</td>\n      <td>6</td>\n    </tr>\n    <tr>\n      <th>1</th>\n      <td>4674</td>\n      <td>Besides, life always manifests itself above as...</td>\n      <td>test</td>\n      <td>0</td>\n      <td>3</td>\n      <td>0</td>\n      <td>life always manifests well seas passengers cou...</td>\n      <td>6</td>\n    </tr>\n    <tr>\n      <th>2</th>\n      <td>4678</td>\n      <td>Do you see, Mrs. Weldon, when we whalers, duri...</td>\n      <td>test</td>\n      <td>0</td>\n      <td>2</td>\n      <td>0</td>\n      <td>see whalers fishing season arrive sight shoal ...</td>\n      <td>6</td>\n    </tr>\n    <tr>\n      <th>3</th>\n      <td>4679</td>\n      <td>\"You think right, Jack,\" observed Dick Sand, \"...</td>\n      <td>test</td>\n      <td>0</td>\n      <td>2</td>\n      <td>0</td>\n      <td>think right observed lose time picking crustac...</td>\n      <td>6</td>\n    </tr>\n    <tr>\n      <th>4</th>\n      <td>4680</td>\n      <td>Whalers could not be mistaken in it. But the d...</td>\n      <td>test</td>\n      <td>0</td>\n      <td>3</td>\n      <td>0</td>\n      <td>could mistaken distance still considerable mak...</td>\n      <td>6</td>\n    </tr>\n    <tr>\n      <th>5</th>\n      <td>4681</td>\n      <td>The hunters of large game, they say, are more ...</td>\n      <td>test</td>\n      <td>0</td>\n      <td>1</td>\n      <td>0</td>\n      <td>hunters large game say eager hunters small gam...</td>\n      <td>6</td>\n    </tr>\n    <tr>\n      <th>6</th>\n      <td>4683</td>\n      <td>\"Yes, my boy! and when we think that the great...</td>\n      <td>test</td>\n      <td>0</td>\n      <td>1</td>\n      <td>0</td>\n      <td>boy think great beast process breakfasting lit...</td>\n      <td>6</td>\n    </tr>\n    <tr>\n      <th>7</th>\n      <td>4685</td>\n      <td>said one of the sailors, \"a fine jubarte is al...</td>\n      <td>test</td>\n      <td>0</td>\n      <td>1</td>\n      <td>0</td>\n      <td>said one sailors fine jubarte fine capture pro...</td>\n      <td>6</td>\n    </tr>\n    <tr>\n      <th>8</th>\n      <td>4686</td>\n      <td>\"Mama, mama\"! then cried little Jack, \"I shoul...</td>\n      <td>test</td>\n      <td>0</td>\n      <td>4</td>\n      <td>1</td>\n      <td>mama cried little like whale see made wish wha...</td>\n      <td>6</td>\n    </tr>\n    <tr>\n      <th>9</th>\n      <td>4687</td>\n      <td>\"This will not be the first time that I have f...</td>\n      <td>test</td>\n      <td>0</td>\n      <td>4</td>\n      <td>0</td>\n      <td>first time followed trade harpooner added see ...</td>\n      <td>6</td>\n    </tr>\n    <tr>\n      <th>10</th>\n      <td>4688</td>\n      <td>Could fishermen let such an occasion escape th...</td>\n      <td>test</td>\n      <td>0</td>\n      <td>2</td>\n      <td>0</td>\n      <td>fishermen let occasion escape believed ought a...</td>\n      <td>6</td>\n    </tr>\n    <tr>\n      <th>11</th>\n      <td>4690</td>\n      <td>Dick Sand would have wished to take part in th...</td>\n      <td>test</td>\n      <td>0</td>\n      <td>3</td>\n      <td>0</td>\n      <td>would wished take part fishing great attractio...</td>\n      <td>6</td>\n    </tr>\n    <tr>\n      <th>12</th>\n      <td>4691</td>\n      <td>But the \"Pilgrim\" was not furnished with appar...</td>\n      <td>test</td>\n      <td>0</td>\n      <td>2</td>\n      <td>0</td>\n      <td>furnished apparatus kind besides instrument hi...</td>\n      <td>6</td>\n    </tr>\n    <tr>\n      <th>13</th>\n      <td>4692</td>\n      <td>Such were the different weapons which were car...</td>\n      <td>test</td>\n      <td>0</td>\n      <td>2</td>\n      <td>0</td>\n      <td>different weapons carefully disposed front boa...</td>\n      <td>6</td>\n    </tr>\n    <tr>\n      <th>14</th>\n      <td>4694</td>\n      <td>\"On nothing just now,\" replied Dick Sand, smil...</td>\n      <td>test</td>\n      <td>0</td>\n      <td>1</td>\n      <td>1</td>\n      <td>nothing replied smiling service continued colo...</td>\n      <td>6</td>\n    </tr>\n    <tr>\n      <th>15</th>\n      <td>4696</td>\n      <td>Besides, that sea, so fine, was marvelously co...</td>\n      <td>test</td>\n      <td>0</td>\n      <td>4</td>\n      <td>1</td>\n      <td>sea fine marvelously conducive pursuit cetacea...</td>\n      <td>6</td>\n    </tr>\n    <tr>\n      <th>16</th>\n      <td>4697</td>\n      <td>\"Sometimes,\" observed Cousin Benedict, \"we fin...</td>\n      <td>test</td>\n      <td>0</td>\n      <td>2</td>\n      <td>0</td>\n      <td>observed find rather curious insects back larg...</td>\n      <td>6</td>\n    </tr>\n    <tr>\n      <th>17</th>\n      <td>4698</td>\n      <td>Then the sailors, shod in boots, with cramp-ho...</td>\n      <td>test</td>\n      <td>0</td>\n      <td>2</td>\n      <td>0</td>\n      <td>sailors shod boots cramphooks would take place...</td>\n      <td>6</td>\n    </tr>\n    <tr>\n      <th>18</th>\n      <td>4699</td>\n      <td>The jubarte was all this time swimming in the ...</td>\n      <td>test</td>\n      <td>0</td>\n      <td>2</td>\n      <td>0</td>\n      <td>jubarte time swimming middle vast red field cr...</td>\n      <td>6</td>\n    </tr>\n    <tr>\n      <th>19</th>\n      <td>4700</td>\n      <td>\"Count on me, sir\". \"One eye for the ship, one...</td>\n      <td>test</td>\n      <td>0</td>\n      <td>1</td>\n      <td>0</td>\n      <td>sir eye ship one eye whaleboat boy forget shal...</td>\n      <td>6</td>\n    </tr>\n    <tr>\n      <th>20</th>\n      <td>4703</td>\n      <td>THE JUBARTE. Captain Hull, an experienced whal...</td>\n      <td>test</td>\n      <td>0</td>\n      <td>1</td>\n      <td>0</td>\n      <td>experienced whaler would leave nothing chance ...</td>\n      <td>6</td>\n    </tr>\n    <tr>\n      <th>21</th>\n      <td>4705</td>\n      <td>The starboard oars still sank in the green and...</td>\n      <td>test</td>\n      <td>0</td>\n      <td>1</td>\n      <td>0</td>\n      <td>starboard oars still sank green limpid water l...</td>\n      <td>6</td>\n    </tr>\n    <tr>\n      <th>22</th>\n      <td>4706</td>\n      <td>This optical illusion evidently takes place be...</td>\n      <td>test</td>\n      <td>0</td>\n      <td>1</td>\n      <td>0</td>\n      <td>optical illusion evidently takes place points ...</td>\n      <td>6</td>\n    </tr>\n    <tr>\n      <th>23</th>\n      <td>4707</td>\n      <td>repeated Captain Hull. Five minutes later the ...</td>\n      <td>test</td>\n      <td>0</td>\n      <td>2</td>\n      <td>0</td>\n      <td>repeated minutes later whaleboat cables length...</td>\n      <td>6</td>\n    </tr>\n    <tr>\n      <th>24</th>\n      <td>4709</td>\n      <td>Captain Hull, holding his harpoon by the middl...</td>\n      <td>test</td>\n      <td>0</td>\n      <td>2</td>\n      <td>0</td>\n      <td>holding harpoon middle handle balanced several...</td>\n      <td>6</td>\n    </tr>\n    <tr>\n      <th>25</th>\n      <td>4710</td>\n      <td>The mother was evidently going to defend herse...</td>\n      <td>test</td>\n      <td>0</td>\n      <td>2</td>\n      <td>2</td>\n      <td>mother evidently going defend greater fury muc...</td>\n      <td>6</td>\n    </tr>\n    <tr>\n      <th>26</th>\n      <td>4711</td>\n      <td>Howik kept it steady, notwithstanding those ra...</td>\n      <td>test</td>\n      <td>0</td>\n      <td>2</td>\n      <td>0</td>\n      <td>kept steady notwithstanding rapid frightful os...</td>\n      <td>6</td>\n    </tr>\n    <tr>\n      <th>27</th>\n      <td>4714</td>\n      <td>At that moment, the \"Pilgrim\" was more than fi...</td>\n      <td>test</td>\n      <td>0</td>\n      <td>2</td>\n      <td>0</td>\n      <td>moment five miles leeward whaleboat hoisting f...</td>\n      <td>6</td>\n    </tr>\n    <tr>\n      <th>28</th>\n      <td>4715</td>\n      <td>Howik worked skilfully then, and held himself ...</td>\n      <td>test</td>\n      <td>0</td>\n      <td>4</td>\n      <td>1</td>\n      <td>worked skilfully held ready make boat turn rap...</td>\n      <td>6</td>\n    </tr>\n    <tr>\n      <th>29</th>\n      <td>4717</td>\n      <td>Steer, Howik, steer\"! The jubarte, in fact, ha...</td>\n      <td>test</td>\n      <td>0</td>\n      <td>2</td>\n      <td>0</td>\n      <td>steer jubarte fact turned manner present front...</td>\n      <td>6</td>\n    </tr>\n    <tr>\n      <th>30</th>\n      <td>4718</td>\n      <td>The whale-boat almost capsized, and, the water...</td>\n      <td>test</td>\n      <td>0</td>\n      <td>1</td>\n      <td>0</td>\n      <td>whaleboat almost capsized water rushing side h...</td>\n      <td>6</td>\n    </tr>\n    <tr>\n      <th>31</th>\n      <td>4720</td>\n      <td>\"Present\"! replied the boatswain, as he got up...</td>\n      <td>test</td>\n      <td>0</td>\n      <td>4</td>\n      <td>0</td>\n      <td>replied boatswain got perceived fall stern oar...</td>\n      <td>6</td>\n    </tr>\n    <tr>\n      <th>32</th>\n      <td>4721</td>\n      <td>The whale was going to fight for two. Captain ...</td>\n      <td>test</td>\n      <td>0</td>\n      <td>1</td>\n      <td>0</td>\n      <td>whale going fight two looked toward hand shook...</td>\n      <td>6</td>\n    </tr>\n    <tr>\n      <th>33</th>\n      <td>4722</td>\n      <td>\"Attention, Howik\"! cried Captain Hull, for th...</td>\n      <td>test</td>\n      <td>0</td>\n      <td>1</td>\n      <td>0</td>\n      <td>cried last time boatswain speak disarmed lever...</td>\n      <td>6</td>\n    </tr>\n    <tr>\n      <th>34</th>\n      <td>4725</td>\n      <td>Yes! They could not too earnestly implore the ...</td>\n      <td>test</td>\n      <td>0</td>\n      <td>1</td>\n      <td>0</td>\n      <td>could earnestly implore aid things situation o...</td>\n      <td>6</td>\n    </tr>\n    <tr>\n      <th>35</th>\n      <td>4735</td>\n      <td>\"Besides, in standing in for the land, I do no...</td>\n      <td>test</td>\n      <td>0</td>\n      <td>2</td>\n      <td>0</td>\n      <td>standing land renounce hope encountering vesse...</td>\n      <td>6</td>\n    </tr>\n    <tr>\n      <th>36</th>\n      <td>4756</td>\n      <td>Then the progress was more rapid, and he longe...</td>\n      <td>test</td>\n      <td>0</td>\n      <td>2</td>\n      <td>0</td>\n      <td>progress rapid longed less desolate parts said...</td>\n      <td>6</td>\n    </tr>\n    <tr>\n      <th>37</th>\n      <td>4759</td>\n      <td>During this time Tom or his son Bat took his p...</td>\n      <td>test</td>\n      <td>0</td>\n      <td>2</td>\n      <td>0</td>\n      <td>time son took place wheel helm thanks counsels...</td>\n      <td>6</td>\n    </tr>\n    <tr>\n      <th>38</th>\n      <td>4764</td>\n      <td>The wind from the northwest freshened graduall...</td>\n      <td>test</td>\n      <td>0</td>\n      <td>2</td>\n      <td>0</td>\n      <td>wind northwest freshened gradually sailed rapi...</td>\n      <td>6</td>\n    </tr>\n    <tr>\n      <th>39</th>\n      <td>4775</td>\n      <td>Two or three times the barometer rose again, b...</td>\n      <td>test</td>\n      <td>0</td>\n      <td>2</td>\n      <td>0</td>\n      <td>three times barometer rose oscillation compris...</td>\n      <td>6</td>\n    </tr>\n    <tr>\n      <th>40</th>\n      <td>4777</td>\n      <td>The novice kept at the prow, sometimes observi...</td>\n      <td>test</td>\n      <td>0</td>\n      <td>1</td>\n      <td>0</td>\n      <td>novice kept prow sometimes observing sea sky s...</td>\n      <td>6</td>\n    </tr>\n    <tr>\n      <th>41</th>\n      <td>4783</td>\n      <td>It was a real tempest which was raging, and su...</td>\n      <td>test</td>\n      <td>0</td>\n      <td>1</td>\n      <td>0</td>\n      <td>real tempest raging could carry even little sa...</td>\n      <td>6</td>\n    </tr>\n    <tr>\n      <th>42</th>\n      <td>4785</td>\n      <td>When heavy cannons, carrying balls of twenty-f...</td>\n      <td>test</td>\n      <td>0</td>\n      <td>2</td>\n      <td>2</td>\n      <td>heavy cannons carrying balls twentyfour pounds...</td>\n      <td>6</td>\n    </tr>\n    <tr>\n      <th>43</th>\n      <td>4791</td>\n      <td>He will regale the fishes, who are not hard to...</td>\n      <td>test</td>\n      <td>0</td>\n      <td>2</td>\n      <td>0</td>\n      <td>regale fishes hard please yet replied rose soo...</td>\n      <td>6</td>\n    </tr>\n    <tr>\n      <th>44</th>\n      <td>4803</td>\n      <td>I know, at last, where the tempest has blown u...</td>\n      <td>test</td>\n      <td>0</td>\n      <td>2</td>\n      <td>0</td>\n      <td>know last tempest blown us abates shall able l...</td>\n      <td>6</td>\n    </tr>\n    <tr>\n      <th>45</th>\n      <td>4805</td>\n      <td>There was, then, this interminable hurricane, ...</td>\n      <td>test</td>\n      <td>0</td>\n      <td>1</td>\n      <td>0</td>\n      <td>interminable hurricane whose fury nothing seem...</td>\n      <td>6</td>\n    </tr>\n    <tr>\n      <th>46</th>\n      <td>4813</td>\n      <td>At last, on that day, at ten o'clock in the mo...</td>\n      <td>test</td>\n      <td>0</td>\n      <td>2</td>\n      <td>0</td>\n      <td>last day ten oclock morning sailing foresail t...</td>\n      <td>6</td>\n    </tr>\n    <tr>\n      <th>47</th>\n      <td>4814</td>\n      <td>Sometimes it was extinguished behind a large m...</td>\n      <td>test</td>\n      <td>0</td>\n      <td>2</td>\n      <td>0</td>\n      <td>extinguished behind large mass vapors came eas...</td>\n      <td>6</td>\n    </tr>\n    <tr>\n      <th>48</th>\n      <td>4824</td>\n      <td>With the reduced sail which she carried, the w...</td>\n      <td>test</td>\n      <td>0</td>\n      <td>2</td>\n      <td>0</td>\n      <td>reduced sail carried winds driving coast would...</td>\n      <td>6</td>\n    </tr>\n    <tr>\n      <th>49</th>\n      <td>4827</td>\n      <td>Hercules would take charge of Mrs. Weldon. The...</td>\n      <td>test</td>\n      <td>0</td>\n      <td>2</td>\n      <td>0</td>\n      <td>would take charge novice took little care tran...</td>\n      <td>6</td>\n    </tr>\n    <tr>\n      <th>50</th>\n      <td>4828</td>\n      <td>Each moment the novice thought that the vessel...</td>\n      <td>test</td>\n      <td>0</td>\n      <td>1</td>\n      <td>0</td>\n      <td>moment novice thought vessels keel going strik...</td>\n      <td>6</td>\n    </tr>\n    <tr>\n      <th>51</th>\n      <td>4832</td>\n      <td>There were high baobabs--to which, however, an...</td>\n      <td>test</td>\n      <td>0</td>\n      <td>3</td>\n      <td>0</td>\n      <td>high baobabsto however extraordinary longevity...</td>\n      <td>6</td>\n    </tr>\n    <tr>\n      <th>52</th>\n      <td>4847</td>\n      <td>In the midst of the _débris_ of all kinds stoo...</td>\n      <td>test</td>\n      <td>0</td>\n      <td>2</td>\n      <td>0</td>\n      <td>midst kinds stood ships carcass high sea partl...</td>\n      <td>6</td>\n    </tr>\n    <tr>\n      <th>53</th>\n      <td>4969</td>\n      <td>From the start, also, he had to attend to the ...</td>\n      <td>test</td>\n      <td>0</td>\n      <td>3</td>\n      <td>0</td>\n      <td>start also attend carrying boats pass insupera...</td>\n      <td>6</td>\n    </tr>\n    <tr>\n      <th>54</th>\n      <td>4982</td>\n      <td>\"Now, I was always waiting for an opportunity,...</td>\n      <td>test</td>\n      <td>0</td>\n      <td>1</td>\n      <td>0</td>\n      <td>always waiting opportunity long coming whaler ...</td>\n      <td>6</td>\n    </tr>\n    <tr>\n      <th>55</th>\n      <td>4983</td>\n      <td>\"But,\" asked Harris, \"according to what my you...</td>\n      <td>test</td>\n      <td>0</td>\n      <td>2</td>\n      <td>1</td>\n      <td>asked young friend told set sail coast arrived...</td>\n      <td>6</td>\n    </tr>\n    <tr>\n      <th>56</th>\n      <td>4984</td>\n      <td>On that day, then, only two sailors remained o...</td>\n      <td>test</td>\n      <td>0</td>\n      <td>1</td>\n      <td>0</td>\n      <td>day two sailors remained boardthe novice cook ...</td>\n      <td>6</td>\n    </tr>\n  </tbody>\n</table>\n</div>"
     },
     "execution_count": 872,
     "metadata": {},
     "output_type": "execute_result"
    }
   ],
   "source": [
    "y[(y['book'] == 0) & ((y['cluster_tf_idf_pr'] == 6))].reset_index()"
   ],
   "metadata": {
    "collapsed": false,
    "pycharm": {
     "name": "#%%\n"
    }
   }
  },
  {
   "cell_type": "code",
   "execution_count": 874,
   "outputs": [
    {
     "data": {
      "text/plain": "'Whalers could not be mistaken in it. But the distance was still too considerable to make it possible to recognize the species to which this mammifer belonged. These species, in fact, are quite distinct. Was it one of those \"right\" whales, which the fishermen of the Northern Ocean seek most particularly? Those cetaceans, which lack the dorsal fin, but whose skin covers a thick stratum of lard, may attain a length of eighty feet, though the average does not exceed sixty, and then a single one of those monsters furnishes as much as a hundred barrels of oil. Was it, on the contrary, a \"humpback,\" belonging to the species of baloenopters, a designation whose termination should at least gain it the entomologist\\'s esteem? These possess dorsal fins, white in color, and as long as half the body, which resemble a pair of wings--something like a flying whale. Had they not in view, more likely, a \"finback\" mammifer, as well known by the name \"jubarte,\" which is provided with a dorsal fin, and whose length may equal that of the \"right\" whale? Captain Hull and his crew could not yet decide, but they regarded the animal with more desire than admiration. If it is true that a clockmaker cannot find himself in a room in the presence of a clock without experiencing the irresistible wish to wind it up, how much more must the whaler, before a whale, be seized with the imperative desire to take possession of it?'"
     },
     "execution_count": 874,
     "metadata": {},
     "output_type": "execute_result"
    }
   ],
   "source": [
    "y[(y['book'] == 0) & ((y['cluster_tf_idf_pr'] == 6))].iloc[4]['paragraph']"
   ],
   "metadata": {
    "collapsed": false,
    "pycharm": {
     "name": "#%%\n"
    }
   }
  }
 ],
 "metadata": {
  "kernelspec": {
   "display_name": "Python 3",
   "language": "python",
   "name": "python3"
  },
  "language_info": {
   "codemirror_mode": {
    "name": "ipython",
    "version": 2
   },
   "file_extension": ".py",
   "mimetype": "text/x-python",
   "name": "python",
   "nbconvert_exporter": "python",
   "pygments_lexer": "ipython2",
   "version": "2.7.6"
  }
 },
 "nbformat": 4,
 "nbformat_minor": 0
}