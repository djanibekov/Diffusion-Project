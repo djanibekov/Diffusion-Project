{
 "cells": [
  {
   "cell_type": "code",
   "execution_count": 1,
   "metadata": {},
   "outputs": [
    {
     "name": "stdout",
     "output_type": "stream",
     "text": [
      "<class 'pandas.core.frame.DataFrame'>\n",
      "RangeIndex: 3821 entries, 0 to 3820\n",
      "Data columns (total 3 columns):\n",
      " #   Column      Non-Null Count  Dtype \n",
      "---  ------      --------------  ----- \n",
      " 0   Unnamed: 0  3821 non-null   int64 \n",
      " 1   paragraph   3821 non-null   object\n",
      " 2   genre       3821 non-null   object\n",
      "dtypes: int64(1), object(2)\n",
      "memory usage: 89.7+ KB\n"
     ]
    }
   ],
   "source": [
    "import pandas as pd\n",
    "\n",
    "data = pd.read_csv('data/paragraphs.csv')\n",
    "data.info()"
   ]
  },
  {
   "cell_type": "code",
   "execution_count": 8,
   "metadata": {},
   "outputs": [],
   "source": [
    "from torch.utils.data import Dataset\n",
    "class SummarizationDataset(Dataset):\n",
    "    def __init__(self, original_list):\n",
    "        self.original_list = original_list\n",
    "\n",
    "    def __len__(self):\n",
    "        return len(self.original_list)\n",
    "\n",
    "    def __getitem__(self, i):\n",
    "        return self.original_list[i]\n",
    "\n",
    "\n",
    "dataset1 = SummarizationDataset(data['paragraph'].values)"
   ]
  },
  {
   "cell_type": "code",
   "execution_count": 5,
   "metadata": {},
   "outputs": [
    {
     "data": {
      "text/plain": [
       "'“Then I can wait in the next room”. “Not at all. This gentleman, Mr. Wilson, has been my partner and helper in many of my most successful cases, and I have no doubt that he will be of the utmost use to me in yours also”. The stout gentleman half rose from his chair and gave a bob of greeting, with a quick little questioning glance from his small fat-encircled eyes. “Try the settee,” said Holmes, relapsing into his armchair and putting his fingertips together, as was his custom when in judicial moods. “I know, my dear Watson, that you share my love of all that is bizarre and outside the conventions and humdrum routine of everyday life. You have shown your relish for it by the enthusiasm which has prompted you to chronicle, and, if you will excuse my saying so, somewhat to embellish so many of my own little adventures”. “Your cases have indeed been of the greatest interest to me,” I observed. “You will remember that I remarked the other day, just before we went into the very simple problem presented by Miss Mary Sutherland, that for strange effects and extraordinary combinations we must go to life itself, which is always far more daring than any effort of the imagination”. “A proposition which I took the liberty of doubting”.'"
      ]
     },
     "execution_count": 5,
     "metadata": {},
     "output_type": "execute_result"
    }
   ],
   "source": [
    "dataset1[0]"
   ]
  },
  {
   "cell_type": "code",
   "execution_count": 27,
   "metadata": {},
   "outputs": [
    {
     "data": {
      "application/vnd.jupyter.widget-view+json": {
       "model_id": "8d90dadf7a6b486da8654a3f583dddca",
       "version_major": 2,
       "version_minor": 0
      },
      "text/plain": [
       "Downloading config.json:   0%|          | 0.00/1.55k [00:00<?, ?B/s]"
      ]
     },
     "metadata": {},
     "output_type": "display_data"
    },
    {
     "data": {
      "application/vnd.jupyter.widget-view+json": {
       "model_id": "39e3828eec774eeb9a2635f774b0c1b6",
       "version_major": 2,
       "version_minor": 0
      },
      "text/plain": [
       "Downloading pytorch_model.bin:   0%|          | 0.00/423M [00:00<?, ?B/s]"
      ]
     },
     "metadata": {},
     "output_type": "display_data"
    },
    {
     "data": {
      "application/vnd.jupyter.widget-view+json": {
       "model_id": "2d16010ce6c343c7b10b57c1dc38ad04",
       "version_major": 2,
       "version_minor": 0
      },
      "text/plain": [
       "Downloading tokenizer_config.json:   0%|          | 0.00/26.0 [00:00<?, ?B/s]"
      ]
     },
     "metadata": {},
     "output_type": "display_data"
    },
    {
     "data": {
      "application/vnd.jupyter.widget-view+json": {
       "model_id": "f6a8d35cfb5d439eb41881d257eeab54",
       "version_major": 2,
       "version_minor": 0
      },
      "text/plain": [
       "Downloading vocab.json:   0%|          | 0.00/878k [00:00<?, ?B/s]"
      ]
     },
     "metadata": {},
     "output_type": "display_data"
    },
    {
     "data": {
      "application/vnd.jupyter.widget-view+json": {
       "model_id": "c734f78fcd61480d94c3dd015f8fc4de",
       "version_major": 2,
       "version_minor": 0
      },
      "text/plain": [
       "Downloading merges.txt:   0%|          | 0.00/446k [00:00<?, ?B/s]"
      ]
     },
     "metadata": {},
     "output_type": "display_data"
    }
   ],
   "source": [
    "from transformers import pipeline\n",
    "from tqdm.auto import tqdm\n",
    "\n",
    "summarizer = pipeline(\"summarization\", model=\"facebook/bart-large-cnn\")\n",
    "result = summarizer(data['paragraph'].iloc[0], max_length=50, min_length=10, do_sample=False)"
   ]
  },
  {
   "cell_type": "code",
   "execution_count": 28,
   "metadata": {},
   "outputs": [
    {
     "data": {
      "text/plain": [
       "[{'summary_text': \" Holmes, one of the world's most famous cases of the year, was in the room of a man who has been working with a friend.\"}]"
      ]
     },
     "execution_count": 28,
     "metadata": {},
     "output_type": "execute_result"
    }
   ],
   "source": [
    "result"
   ]
  },
  {
   "cell_type": "code",
   "execution_count": 29,
   "metadata": {},
   "outputs": [
    {
     "name": "stderr",
     "output_type": "stream",
     "text": [
      "2122it [31:19,  1.29it/s]Your max_length is set to 50, but you input_length is only 49. You might consider decreasing max_length manually, e.g. summarizer('...', max_length=24)\n",
      "2637it [38:09,  1.37it/s]Your max_length is set to 50, but you input_length is only 47. You might consider decreasing max_length manually, e.g. summarizer('...', max_length=23)\n",
      "3821it [58:18,  1.09it/s]\n"
     ]
    },
    {
     "data": {
      "text/plain": [
       "\" The French President-elect, one of the world's most famous men, has come to the end of the year.\""
      ]
     },
     "execution_count": 29,
     "metadata": {},
     "output_type": "execute_result"
    }
   ],
   "source": [
    "from transformers import pipeline\n",
    "import tqdm\n",
    "\n",
    "summarizer = pipeline(\"summarization\", model=\"facebook/bart-large-cnn\")\n",
    "for i, text in tqdm.tqdm(enumerate(data['paragraph'].values.tolist())):\n",
    "    result = summarizer(text, max_length=50, min_length=10, do_sample=False)[0]['summary_text']\n",
    "    with open(f'data/summary_xsum/{i}_50_summary.txt', 'w') as f:\n",
    "        f.write(result)\n",
    "result"
   ]
  },
  {
   "cell_type": "code",
   "execution_count": 30,
   "metadata": {},
   "outputs": [
    {
     "name": "stderr",
     "output_type": "stream",
     "text": [
      "3821it [52:33,  1.21it/s]\n"
     ]
    },
    {
     "data": {
      "text/plain": [
       "\" The French President-elect, one of the world's most famous men, has come to the end of the year.\""
      ]
     },
     "execution_count": 30,
     "metadata": {},
     "output_type": "execute_result"
    }
   ],
   "source": [
    "from transformers import pipeline\n",
    "import tqdm\n",
    "\n",
    "summarizer = pipeline(\"summarization\", model=\"facebook/bart-large-cnn\")\n",
    "for i, text in tqdm.tqdm(enumerate(data['paragraph'].values.tolist())):\n",
    "    result = summarizer(text, max_length=30, min_length=10, do_sample=False)[0]['summary_text']\n",
    "    with open(f'data/summary_xsum/{i}_30_summary.txt', 'w') as f:\n",
    "        f.write(result)\n",
    "result"
   ]
  },
  {
   "cell_type": "code",
   "execution_count": 31,
   "metadata": {},
   "outputs": [
    {
     "name": "stderr",
     "output_type": "stream",
     "text": [
      "117it [02:44,  1.28s/it]Your max_length is set to 100, but you input_length is only 94. You might consider decreasing max_length manually, e.g. summarizer('...', max_length=47)\n",
      "135it [03:07,  1.38s/it]Your max_length is set to 100, but you input_length is only 76. You might consider decreasing max_length manually, e.g. summarizer('...', max_length=38)\n",
      "183it [04:11,  1.30s/it]Your max_length is set to 100, but you input_length is only 84. You might consider decreasing max_length manually, e.g. summarizer('...', max_length=42)\n",
      "201it [04:34,  1.30s/it]Your max_length is set to 100, but you input_length is only 82. You might consider decreasing max_length manually, e.g. summarizer('...', max_length=41)\n",
      "212it [04:48,  1.35s/it]Your max_length is set to 100, but you input_length is only 93. You might consider decreasing max_length manually, e.g. summarizer('...', max_length=46)\n",
      "269it [06:03,  1.35s/it]Your max_length is set to 100, but you input_length is only 93. You might consider decreasing max_length manually, e.g. summarizer('...', max_length=46)\n",
      "310it [06:55,  1.31s/it]Your max_length is set to 100, but you input_length is only 87. You might consider decreasing max_length manually, e.g. summarizer('...', max_length=43)\n",
      "419it [09:20,  1.38s/it]Your max_length is set to 100, but you input_length is only 88. You might consider decreasing max_length manually, e.g. summarizer('...', max_length=44)\n",
      "446it [09:55,  1.32s/it]Your max_length is set to 100, but you input_length is only 91. You might consider decreasing max_length manually, e.g. summarizer('...', max_length=45)\n",
      "470it [10:26,  1.24s/it]Your max_length is set to 100, but you input_length is only 94. You might consider decreasing max_length manually, e.g. summarizer('...', max_length=47)\n",
      "536it [11:52,  1.27s/it]Your max_length is set to 100, but you input_length is only 95. You might consider decreasing max_length manually, e.g. summarizer('...', max_length=47)\n",
      "928it [21:01,  1.30s/it]Your max_length is set to 100, but you input_length is only 67. You might consider decreasing max_length manually, e.g. summarizer('...', max_length=33)\n",
      "1042it [23:36,  1.24s/it]Your max_length is set to 100, but you input_length is only 92. You might consider decreasing max_length manually, e.g. summarizer('...', max_length=46)\n",
      "1055it [23:52,  1.23s/it]Your max_length is set to 100, but you input_length is only 77. You might consider decreasing max_length manually, e.g. summarizer('...', max_length=38)\n",
      "1056it [23:53,  1.21s/it]Your max_length is set to 100, but you input_length is only 91. You might consider decreasing max_length manually, e.g. summarizer('...', max_length=45)\n",
      "1057it [23:55,  1.21s/it]Your max_length is set to 100, but you input_length is only 89. You might consider decreasing max_length manually, e.g. summarizer('...', max_length=44)\n",
      "1058it [23:56,  1.25s/it]Your max_length is set to 100, but you input_length is only 86. You might consider decreasing max_length manually, e.g. summarizer('...', max_length=43)\n",
      "1062it [24:01,  1.24s/it]Your max_length is set to 100, but you input_length is only 98. You might consider decreasing max_length manually, e.g. summarizer('...', max_length=49)\n",
      "1078it [24:21,  1.25s/it]Your max_length is set to 100, but you input_length is only 84. You might consider decreasing max_length manually, e.g. summarizer('...', max_length=42)\n",
      "1087it [24:33,  1.33s/it]Your max_length is set to 100, but you input_length is only 94. You might consider decreasing max_length manually, e.g. summarizer('...', max_length=47)\n",
      "1161it [26:06,  1.25s/it]Your max_length is set to 100, but you input_length is only 84. You might consider decreasing max_length manually, e.g. summarizer('...', max_length=42)\n",
      "1177it [26:27,  1.25s/it]Your max_length is set to 100, but you input_length is only 92. You might consider decreasing max_length manually, e.g. summarizer('...', max_length=46)\n",
      "1178it [26:28,  1.24s/it]Your max_length is set to 100, but you input_length is only 85. You might consider decreasing max_length manually, e.g. summarizer('...', max_length=42)\n",
      "1180it [26:31,  1.22s/it]Your max_length is set to 100, but you input_length is only 81. You might consider decreasing max_length manually, e.g. summarizer('...', max_length=40)\n",
      "1247it [27:57,  1.23s/it]Your max_length is set to 100, but you input_length is only 96. You might consider decreasing max_length manually, e.g. summarizer('...', max_length=48)\n",
      "1248it [27:58,  1.22s/it]Your max_length is set to 100, but you input_length is only 93. You might consider decreasing max_length manually, e.g. summarizer('...', max_length=46)\n",
      "1258it [28:11,  1.31s/it]Your max_length is set to 100, but you input_length is only 97. You might consider decreasing max_length manually, e.g. summarizer('...', max_length=48)\n",
      "1261it [28:15,  1.33s/it]Your max_length is set to 100, but you input_length is only 97. You might consider decreasing max_length manually, e.g. summarizer('...', max_length=48)\n",
      "1276it [28:34,  1.27s/it]Your max_length is set to 100, but you input_length is only 84. You might consider decreasing max_length manually, e.g. summarizer('...', max_length=42)\n",
      "1297it [29:00,  1.25s/it]Your max_length is set to 100, but you input_length is only 89. You might consider decreasing max_length manually, e.g. summarizer('...', max_length=44)\n",
      "1305it [29:10,  1.27s/it]Your max_length is set to 100, but you input_length is only 95. You might consider decreasing max_length manually, e.g. summarizer('...', max_length=47)\n",
      "1328it [29:39,  1.22s/it]Your max_length is set to 100, but you input_length is only 81. You might consider decreasing max_length manually, e.g. summarizer('...', max_length=40)\n",
      "1427it [31:44,  1.23s/it]Your max_length is set to 100, but you input_length is only 91. You might consider decreasing max_length manually, e.g. summarizer('...', max_length=45)\n",
      "1428it [31:46,  1.21s/it]Your max_length is set to 100, but you input_length is only 91. You might consider decreasing max_length manually, e.g. summarizer('...', max_length=45)\n",
      "1437it [31:57,  1.22s/it]Your max_length is set to 100, but you input_length is only 98. You might consider decreasing max_length manually, e.g. summarizer('...', max_length=49)\n",
      "1439it [31:59,  1.21s/it]Your max_length is set to 100, but you input_length is only 98. You might consider decreasing max_length manually, e.g. summarizer('...', max_length=49)\n",
      "1453it [32:17,  1.24s/it]Your max_length is set to 100, but you input_length is only 98. You might consider decreasing max_length manually, e.g. summarizer('...', max_length=49)\n",
      "1456it [32:20,  1.21s/it]Your max_length is set to 100, but you input_length is only 91. You might consider decreasing max_length manually, e.g. summarizer('...', max_length=45)\n",
      "1473it [32:41,  1.28s/it]Your max_length is set to 100, but you input_length is only 81. You might consider decreasing max_length manually, e.g. summarizer('...', max_length=40)\n",
      "1479it [32:49,  1.23s/it]Your max_length is set to 100, but you input_length is only 77. You might consider decreasing max_length manually, e.g. summarizer('...', max_length=38)\n",
      "1480it [32:50,  1.22s/it]Your max_length is set to 100, but you input_length is only 91. You might consider decreasing max_length manually, e.g. summarizer('...', max_length=45)\n",
      "1481it [32:51,  1.21s/it]Your max_length is set to 100, but you input_length is only 92. You might consider decreasing max_length manually, e.g. summarizer('...', max_length=46)\n",
      "1484it [32:55,  1.21s/it]Your max_length is set to 100, but you input_length is only 99. You might consider decreasing max_length manually, e.g. summarizer('...', max_length=49)\n",
      "1485it [32:56,  1.21s/it]Your max_length is set to 100, but you input_length is only 97. You might consider decreasing max_length manually, e.g. summarizer('...', max_length=48)\n",
      "1487it [32:58,  1.20s/it]Your max_length is set to 100, but you input_length is only 95. You might consider decreasing max_length manually, e.g. summarizer('...', max_length=47)\n",
      "1507it [33:24,  1.24s/it]Your max_length is set to 100, but you input_length is only 99. You might consider decreasing max_length manually, e.g. summarizer('...', max_length=49)\n",
      "1516it [33:35,  1.23s/it]Your max_length is set to 100, but you input_length is only 86. You might consider decreasing max_length manually, e.g. summarizer('...', max_length=43)\n",
      "1518it [33:38,  1.24s/it]Your max_length is set to 100, but you input_length is only 72. You might consider decreasing max_length manually, e.g. summarizer('...', max_length=36)\n",
      "1531it [33:53,  1.23s/it]Your max_length is set to 100, but you input_length is only 97. You might consider decreasing max_length manually, e.g. summarizer('...', max_length=48)\n",
      "1533it [33:56,  1.22s/it]Your max_length is set to 100, but you input_length is only 97. You might consider decreasing max_length manually, e.g. summarizer('...', max_length=48)\n",
      "1534it [33:57,  1.21s/it]Your max_length is set to 100, but you input_length is only 93. You might consider decreasing max_length manually, e.g. summarizer('...', max_length=46)\n",
      "1536it [33:59,  1.22s/it]Your max_length is set to 100, but you input_length is only 99. You might consider decreasing max_length manually, e.g. summarizer('...', max_length=49)\n",
      "1569it [34:42,  1.25s/it]Your max_length is set to 100, but you input_length is only 64. You might consider decreasing max_length manually, e.g. summarizer('...', max_length=32)\n",
      "1574it [34:49,  1.28s/it]Your max_length is set to 100, but you input_length is only 99. You might consider decreasing max_length manually, e.g. summarizer('...', max_length=49)\n",
      "1615it [35:42,  1.31s/it]Your max_length is set to 100, but you input_length is only 98. You might consider decreasing max_length manually, e.g. summarizer('...', max_length=49)\n",
      "1616it [35:43,  1.30s/it]Your max_length is set to 100, but you input_length is only 80. You might consider decreasing max_length manually, e.g. summarizer('...', max_length=40)\n",
      "1627it [35:57,  1.22s/it]Your max_length is set to 100, but you input_length is only 94. You might consider decreasing max_length manually, e.g. summarizer('...', max_length=47)\n",
      "1628it [35:58,  1.21s/it]Your max_length is set to 100, but you input_length is only 91. You might consider decreasing max_length manually, e.g. summarizer('...', max_length=45)\n",
      "1631it [36:02,  1.20s/it]Your max_length is set to 100, but you input_length is only 99. You might consider decreasing max_length manually, e.g. summarizer('...', max_length=49)\n",
      "1641it [36:15,  1.39s/it]Your max_length is set to 100, but you input_length is only 88. You might consider decreasing max_length manually, e.g. summarizer('...', max_length=44)\n",
      "1643it [36:18,  1.34s/it]Your max_length is set to 100, but you input_length is only 96. You might consider decreasing max_length manually, e.g. summarizer('...', max_length=48)\n",
      "1644it [36:19,  1.32s/it]Your max_length is set to 100, but you input_length is only 91. You might consider decreasing max_length manually, e.g. summarizer('...', max_length=45)\n",
      "1658it [36:37,  1.29s/it]Your max_length is set to 100, but you input_length is only 93. You might consider decreasing max_length manually, e.g. summarizer('...', max_length=46)\n",
      "1685it [37:14,  1.43s/it]Your max_length is set to 100, but you input_length is only 79. You might consider decreasing max_length manually, e.g. summarizer('...', max_length=39)\n",
      "1687it [37:16,  1.38s/it]Your max_length is set to 100, but you input_length is only 97. You might consider decreasing max_length manually, e.g. summarizer('...', max_length=48)\n",
      "1692it [37:23,  1.37s/it]Your max_length is set to 100, but you input_length is only 91. You might consider decreasing max_length manually, e.g. summarizer('...', max_length=45)\n",
      "1778it [39:19,  1.38s/it]Your max_length is set to 100, but you input_length is only 94. You might consider decreasing max_length manually, e.g. summarizer('...', max_length=47)\n",
      "1792it [39:37,  1.27s/it]Your max_length is set to 100, but you input_length is only 87. You might consider decreasing max_length manually, e.g. summarizer('...', max_length=43)\n",
      "1818it [40:10,  1.29s/it]Your max_length is set to 100, but you input_length is only 94. You might consider decreasing max_length manually, e.g. summarizer('...', max_length=47)\n",
      "1822it [40:15,  1.26s/it]Your max_length is set to 100, but you input_length is only 84. You might consider decreasing max_length manually, e.g. summarizer('...', max_length=42)\n",
      "1828it [40:22,  1.27s/it]Your max_length is set to 100, but you input_length is only 83. You might consider decreasing max_length manually, e.g. summarizer('...', max_length=41)\n",
      "1844it [40:42,  1.25s/it]Your max_length is set to 100, but you input_length is only 97. You might consider decreasing max_length manually, e.g. summarizer('...', max_length=48)\n",
      "1855it [40:56,  1.28s/it]Your max_length is set to 100, but you input_length is only 73. You might consider decreasing max_length manually, e.g. summarizer('...', max_length=36)\n",
      "1863it [41:06,  1.24s/it]Your max_length is set to 100, but you input_length is only 95. You might consider decreasing max_length manually, e.g. summarizer('...', max_length=47)\n",
      "1875it [41:22,  1.30s/it]Your max_length is set to 100, but you input_length is only 98. You might consider decreasing max_length manually, e.g. summarizer('...', max_length=49)\n",
      "1876it [41:23,  1.27s/it]Your max_length is set to 100, but you input_length is only 83. You might consider decreasing max_length manually, e.g. summarizer('...', max_length=41)\n",
      "1894it [41:46,  1.31s/it]Your max_length is set to 100, but you input_length is only 95. You might consider decreasing max_length manually, e.g. summarizer('...', max_length=47)\n",
      "1920it [42:20,  1.28s/it]Your max_length is set to 100, but you input_length is only 91. You might consider decreasing max_length manually, e.g. summarizer('...', max_length=45)\n",
      "1963it [43:15,  1.32s/it]Your max_length is set to 100, but you input_length is only 98. You might consider decreasing max_length manually, e.g. summarizer('...', max_length=49)\n",
      "1971it [43:25,  1.26s/it]Your max_length is set to 100, but you input_length is only 89. You might consider decreasing max_length manually, e.g. summarizer('...', max_length=44)\n",
      "1976it [43:32,  1.26s/it]Your max_length is set to 100, but you input_length is only 95. You might consider decreasing max_length manually, e.g. summarizer('...', max_length=47)\n",
      "1977it [43:33,  1.24s/it]Your max_length is set to 100, but you input_length is only 98. You might consider decreasing max_length manually, e.g. summarizer('...', max_length=49)\n",
      "1980it [43:36,  1.21s/it]Your max_length is set to 100, but you input_length is only 81. You might consider decreasing max_length manually, e.g. summarizer('...', max_length=40)\n",
      "1983it [43:40,  1.22s/it]Your max_length is set to 100, but you input_length is only 85. You might consider decreasing max_length manually, e.g. summarizer('...', max_length=42)\n",
      "2001it [44:02,  1.26s/it]Your max_length is set to 100, but you input_length is only 58. You might consider decreasing max_length manually, e.g. summarizer('...', max_length=29)\n",
      "2024it [44:32,  1.31s/it]Your max_length is set to 100, but you input_length is only 85. You might consider decreasing max_length manually, e.g. summarizer('...', max_length=42)\n",
      "2026it [44:35,  1.27s/it]Your max_length is set to 100, but you input_length is only 90. You might consider decreasing max_length manually, e.g. summarizer('...', max_length=45)\n",
      "2072it [45:36,  1.24s/it]Your max_length is set to 100, but you input_length is only 69. You might consider decreasing max_length manually, e.g. summarizer('...', max_length=34)\n",
      "2073it [45:37,  1.23s/it]Your max_length is set to 100, but you input_length is only 91. You might consider decreasing max_length manually, e.g. summarizer('...', max_length=45)\n",
      "2074it [45:38,  1.21s/it]Your max_length is set to 100, but you input_length is only 86. You might consider decreasing max_length manually, e.g. summarizer('...', max_length=43)\n",
      "2080it [45:45,  1.21s/it]Your max_length is set to 100, but you input_length is only 83. You might consider decreasing max_length manually, e.g. summarizer('...', max_length=41)\n",
      "2081it [45:47,  1.21s/it]Your max_length is set to 100, but you input_length is only 95. You might consider decreasing max_length manually, e.g. summarizer('...', max_length=47)\n",
      "2086it [45:53,  1.28s/it]Your max_length is set to 100, but you input_length is only 99. You might consider decreasing max_length manually, e.g. summarizer('...', max_length=49)\n",
      "2087it [45:54,  1.25s/it]Your max_length is set to 100, but you input_length is only 90. You might consider decreasing max_length manually, e.g. summarizer('...', max_length=45)\n",
      "2088it [45:55,  1.24s/it]Your max_length is set to 100, but you input_length is only 65. You might consider decreasing max_length manually, e.g. summarizer('...', max_length=32)\n",
      "2089it [45:57,  1.22s/it]Your max_length is set to 100, but you input_length is only 63. You might consider decreasing max_length manually, e.g. summarizer('...', max_length=31)\n",
      "2095it [46:04,  1.26s/it]Your max_length is set to 100, but you input_length is only 51. You might consider decreasing max_length manually, e.g. summarizer('...', max_length=25)\n",
      "2096it [46:05,  1.23s/it]Your max_length is set to 100, but you input_length is only 84. You might consider decreasing max_length manually, e.g. summarizer('...', max_length=42)\n",
      "2099it [46:09,  1.25s/it]Your max_length is set to 100, but you input_length is only 83. You might consider decreasing max_length manually, e.g. summarizer('...', max_length=41)\n",
      "2100it [46:10,  1.24s/it]Your max_length is set to 100, but you input_length is only 98. You might consider decreasing max_length manually, e.g. summarizer('...', max_length=49)\n",
      "2107it [46:19,  1.27s/it]Your max_length is set to 100, but you input_length is only 83. You might consider decreasing max_length manually, e.g. summarizer('...', max_length=41)\n",
      "2108it [46:20,  1.25s/it]Your max_length is set to 100, but you input_length is only 87. You might consider decreasing max_length manually, e.g. summarizer('...', max_length=43)\n",
      "2109it [46:22,  1.24s/it]Your max_length is set to 100, but you input_length is only 94. You might consider decreasing max_length manually, e.g. summarizer('...', max_length=47)\n",
      "2110it [46:23,  1.23s/it]Your max_length is set to 100, but you input_length is only 73. You might consider decreasing max_length manually, e.g. summarizer('...', max_length=36)\n",
      "2111it [46:24,  1.21s/it]Your max_length is set to 100, but you input_length is only 68. You might consider decreasing max_length manually, e.g. summarizer('...', max_length=34)\n",
      "2113it [46:26,  1.21s/it]Your max_length is set to 100, but you input_length is only 88. You might consider decreasing max_length manually, e.g. summarizer('...', max_length=44)\n",
      "2114it [46:28,  1.21s/it]Your max_length is set to 100, but you input_length is only 64. You might consider decreasing max_length manually, e.g. summarizer('...', max_length=32)\n",
      "2115it [46:29,  1.23s/it]Your max_length is set to 100, but you input_length is only 70. You might consider decreasing max_length manually, e.g. summarizer('...', max_length=35)\n",
      "2120it [46:35,  1.20s/it]Your max_length is set to 100, but you input_length is only 95. You might consider decreasing max_length manually, e.g. summarizer('...', max_length=47)\n",
      "2122it [46:37,  1.19s/it]Your max_length is set to 100, but you input_length is only 49. You might consider decreasing max_length manually, e.g. summarizer('...', max_length=24)\n",
      "2127it [46:44,  1.27s/it]Your max_length is set to 100, but you input_length is only 69. You might consider decreasing max_length manually, e.g. summarizer('...', max_length=34)\n",
      "2132it [46:50,  1.26s/it]Your max_length is set to 100, but you input_length is only 75. You might consider decreasing max_length manually, e.g. summarizer('...', max_length=37)\n",
      "2133it [46:51,  1.24s/it]Your max_length is set to 100, but you input_length is only 97. You might consider decreasing max_length manually, e.g. summarizer('...', max_length=48)\n",
      "2136it [46:55,  1.21s/it]Your max_length is set to 100, but you input_length is only 73. You might consider decreasing max_length manually, e.g. summarizer('...', max_length=36)\n",
      "2137it [46:56,  1.21s/it]Your max_length is set to 100, but you input_length is only 98. You might consider decreasing max_length manually, e.g. summarizer('...', max_length=49)\n",
      "2140it [47:00,  1.26s/it]Your max_length is set to 100, but you input_length is only 83. You might consider decreasing max_length manually, e.g. summarizer('...', max_length=41)\n",
      "2152it [47:15,  1.29s/it]Your max_length is set to 100, but you input_length is only 97. You might consider decreasing max_length manually, e.g. summarizer('...', max_length=48)\n",
      "2153it [47:16,  1.28s/it]Your max_length is set to 100, but you input_length is only 91. You might consider decreasing max_length manually, e.g. summarizer('...', max_length=45)\n",
      "2156it [47:20,  1.24s/it]Your max_length is set to 100, but you input_length is only 94. You might consider decreasing max_length manually, e.g. summarizer('...', max_length=47)\n",
      "2158it [47:22,  1.25s/it]Your max_length is set to 100, but you input_length is only 80. You might consider decreasing max_length manually, e.g. summarizer('...', max_length=40)\n",
      "2160it [47:25,  1.22s/it]Your max_length is set to 100, but you input_length is only 85. You might consider decreasing max_length manually, e.g. summarizer('...', max_length=42)\n",
      "2161it [47:26,  1.20s/it]Your max_length is set to 100, but you input_length is only 86. You might consider decreasing max_length manually, e.g. summarizer('...', max_length=43)\n",
      "2162it [47:27,  1.19s/it]Your max_length is set to 100, but you input_length is only 87. You might consider decreasing max_length manually, e.g. summarizer('...', max_length=43)\n",
      "2165it [47:31,  1.18s/it]Your max_length is set to 100, but you input_length is only 81. You might consider decreasing max_length manually, e.g. summarizer('...', max_length=40)\n",
      "2166it [47:32,  1.18s/it]Your max_length is set to 100, but you input_length is only 88. You might consider decreasing max_length manually, e.g. summarizer('...', max_length=44)\n",
      "2173it [47:41,  1.31s/it]Your max_length is set to 100, but you input_length is only 89. You might consider decreasing max_length manually, e.g. summarizer('...', max_length=44)\n",
      "2174it [47:42,  1.27s/it]Your max_length is set to 100, but you input_length is only 81. You might consider decreasing max_length manually, e.g. summarizer('...', max_length=40)\n",
      "2175it [47:43,  1.26s/it]Your max_length is set to 100, but you input_length is only 92. You might consider decreasing max_length manually, e.g. summarizer('...', max_length=46)\n",
      "2176it [47:45,  1.26s/it]Your max_length is set to 100, but you input_length is only 90. You might consider decreasing max_length manually, e.g. summarizer('...', max_length=45)\n",
      "2177it [47:46,  1.27s/it]Your max_length is set to 100, but you input_length is only 75. You might consider decreasing max_length manually, e.g. summarizer('...', max_length=37)\n",
      "2178it [47:47,  1.25s/it]Your max_length is set to 100, but you input_length is only 83. You might consider decreasing max_length manually, e.g. summarizer('...', max_length=41)\n",
      "2203it [48:19,  1.28s/it]Your max_length is set to 100, but you input_length is only 87. You might consider decreasing max_length manually, e.g. summarizer('...', max_length=43)\n",
      "2205it [48:21,  1.25s/it]Your max_length is set to 100, but you input_length is only 93. You might consider decreasing max_length manually, e.g. summarizer('...', max_length=46)\n",
      "2236it [49:02,  1.25s/it]Your max_length is set to 100, but you input_length is only 97. You might consider decreasing max_length manually, e.g. summarizer('...', max_length=48)\n",
      "2237it [49:04,  1.24s/it]Your max_length is set to 100, but you input_length is only 83. You might consider decreasing max_length manually, e.g. summarizer('...', max_length=41)\n",
      "2238it [49:05,  1.22s/it]Your max_length is set to 100, but you input_length is only 98. You might consider decreasing max_length manually, e.g. summarizer('...', max_length=49)\n",
      "2264it [49:40,  1.25s/it]Your max_length is set to 100, but you input_length is only 66. You might consider decreasing max_length manually, e.g. summarizer('...', max_length=33)\n",
      "2266it [49:42,  1.24s/it]Your max_length is set to 100, but you input_length is only 77. You might consider decreasing max_length manually, e.g. summarizer('...', max_length=38)\n",
      "2268it [49:45,  1.24s/it]Your max_length is set to 100, but you input_length is only 86. You might consider decreasing max_length manually, e.g. summarizer('...', max_length=43)\n",
      "2292it [50:17,  1.38s/it]Your max_length is set to 100, but you input_length is only 61. You might consider decreasing max_length manually, e.g. summarizer('...', max_length=30)\n",
      "2304it [50:32,  1.27s/it]Your max_length is set to 100, but you input_length is only 91. You might consider decreasing max_length manually, e.g. summarizer('...', max_length=45)\n",
      "2311it [50:40,  1.22s/it]Your max_length is set to 100, but you input_length is only 76. You might consider decreasing max_length manually, e.g. summarizer('...', max_length=38)\n",
      "2324it [50:58,  1.34s/it]Your max_length is set to 100, but you input_length is only 90. You might consider decreasing max_length manually, e.g. summarizer('...', max_length=45)\n",
      "2339it [51:18,  1.35s/it]Your max_length is set to 100, but you input_length is only 89. You might consider decreasing max_length manually, e.g. summarizer('...', max_length=44)\n",
      "2341it [51:21,  1.32s/it]Your max_length is set to 100, but you input_length is only 86. You might consider decreasing max_length manually, e.g. summarizer('...', max_length=43)\n",
      "2342it [51:22,  1.29s/it]Your max_length is set to 100, but you input_length is only 87. You might consider decreasing max_length manually, e.g. summarizer('...', max_length=43)\n",
      "2346it [51:27,  1.30s/it]Your max_length is set to 100, but you input_length is only 85. You might consider decreasing max_length manually, e.g. summarizer('...', max_length=42)\n",
      "2347it [51:28,  1.28s/it]Your max_length is set to 100, but you input_length is only 61. You might consider decreasing max_length manually, e.g. summarizer('...', max_length=30)\n",
      "2371it [52:01,  1.36s/it]Your max_length is set to 100, but you input_length is only 71. You might consider decreasing max_length manually, e.g. summarizer('...', max_length=35)\n",
      "2379it [52:12,  1.42s/it]Your max_length is set to 100, but you input_length is only 98. You might consider decreasing max_length manually, e.g. summarizer('...', max_length=49)\n",
      "2410it [52:57,  1.33s/it]Your max_length is set to 100, but you input_length is only 93. You might consider decreasing max_length manually, e.g. summarizer('...', max_length=46)\n",
      "2411it [52:58,  1.29s/it]Your max_length is set to 100, but you input_length is only 69. You might consider decreasing max_length manually, e.g. summarizer('...', max_length=34)\n",
      "2415it [53:03,  1.24s/it]Your max_length is set to 100, but you input_length is only 89. You might consider decreasing max_length manually, e.g. summarizer('...', max_length=44)\n",
      "2420it [53:09,  1.25s/it]Your max_length is set to 100, but you input_length is only 90. You might consider decreasing max_length manually, e.g. summarizer('...', max_length=45)\n",
      "2446it [53:44,  1.36s/it]Your max_length is set to 100, but you input_length is only 77. You might consider decreasing max_length manually, e.g. summarizer('...', max_length=38)\n",
      "2455it [53:55,  1.27s/it]Your max_length is set to 100, but you input_length is only 78. You might consider decreasing max_length manually, e.g. summarizer('...', max_length=39)\n",
      "2459it [54:01,  1.32s/it]Your max_length is set to 100, but you input_length is only 91. You might consider decreasing max_length manually, e.g. summarizer('...', max_length=45)\n",
      "2461it [54:03,  1.26s/it]Your max_length is set to 100, but you input_length is only 99. You might consider decreasing max_length manually, e.g. summarizer('...', max_length=49)\n",
      "2462it [54:04,  1.25s/it]Your max_length is set to 100, but you input_length is only 82. You might consider decreasing max_length manually, e.g. summarizer('...', max_length=41)\n",
      "2463it [54:06,  1.24s/it]Your max_length is set to 100, but you input_length is only 76. You might consider decreasing max_length manually, e.g. summarizer('...', max_length=38)\n",
      "2464it [54:07,  1.24s/it]Your max_length is set to 100, but you input_length is only 82. You might consider decreasing max_length manually, e.g. summarizer('...', max_length=41)\n",
      "2465it [54:08,  1.23s/it]Your max_length is set to 100, but you input_length is only 61. You might consider decreasing max_length manually, e.g. summarizer('...', max_length=30)\n",
      "2466it [54:09,  1.21s/it]Your max_length is set to 100, but you input_length is only 94. You might consider decreasing max_length manually, e.g. summarizer('...', max_length=47)\n",
      "2468it [54:12,  1.28s/it]Your max_length is set to 100, but you input_length is only 86. You might consider decreasing max_length manually, e.g. summarizer('...', max_length=43)\n",
      "2469it [54:13,  1.28s/it]Your max_length is set to 100, but you input_length is only 76. You might consider decreasing max_length manually, e.g. summarizer('...', max_length=38)\n",
      "2473it [54:18,  1.22s/it]Your max_length is set to 100, but you input_length is only 91. You might consider decreasing max_length manually, e.g. summarizer('...', max_length=45)\n",
      "2495it [54:46,  1.32s/it]Your max_length is set to 100, but you input_length is only 94. You might consider decreasing max_length manually, e.g. summarizer('...', max_length=47)\n",
      "2505it [54:59,  1.24s/it]Your max_length is set to 100, but you input_length is only 99. You might consider decreasing max_length manually, e.g. summarizer('...', max_length=49)\n",
      "2507it [55:02,  1.23s/it]Your max_length is set to 100, but you input_length is only 91. You might consider decreasing max_length manually, e.g. summarizer('...', max_length=45)\n",
      "2508it [55:03,  1.22s/it]Your max_length is set to 100, but you input_length is only 92. You might consider decreasing max_length manually, e.g. summarizer('...', max_length=46)\n",
      "2514it [55:10,  1.24s/it]Your max_length is set to 100, but you input_length is only 99. You might consider decreasing max_length manually, e.g. summarizer('...', max_length=49)\n",
      "2521it [55:19,  1.25s/it]Your max_length is set to 100, but you input_length is only 78. You might consider decreasing max_length manually, e.g. summarizer('...', max_length=39)\n",
      "2528it [55:28,  1.25s/it]Your max_length is set to 100, but you input_length is only 91. You might consider decreasing max_length manually, e.g. summarizer('...', max_length=45)\n",
      "2537it [55:39,  1.29s/it]Your max_length is set to 100, but you input_length is only 96. You might consider decreasing max_length manually, e.g. summarizer('...', max_length=48)\n",
      "2557it [56:04,  1.27s/it]Your max_length is set to 100, but you input_length is only 94. You might consider decreasing max_length manually, e.g. summarizer('...', max_length=47)\n",
      "2584it [56:40,  1.31s/it]Your max_length is set to 100, but you input_length is only 77. You might consider decreasing max_length manually, e.g. summarizer('...', max_length=38)\n",
      "2612it [57:17,  1.40s/it]Your max_length is set to 100, but you input_length is only 82. You might consider decreasing max_length manually, e.g. summarizer('...', max_length=41)\n",
      "2620it [57:27,  1.28s/it]Your max_length is set to 100, but you input_length is only 75. You might consider decreasing max_length manually, e.g. summarizer('...', max_length=37)\n",
      "2623it [57:31,  1.27s/it]Your max_length is set to 100, but you input_length is only 80. You might consider decreasing max_length manually, e.g. summarizer('...', max_length=40)\n",
      "2624it [57:32,  1.24s/it]Your max_length is set to 100, but you input_length is only 96. You might consider decreasing max_length manually, e.g. summarizer('...', max_length=48)\n",
      "2628it [57:37,  1.25s/it]Your max_length is set to 100, but you input_length is only 93. You might consider decreasing max_length manually, e.g. summarizer('...', max_length=46)\n",
      "2629it [57:38,  1.23s/it]Your max_length is set to 100, but you input_length is only 76. You might consider decreasing max_length manually, e.g. summarizer('...', max_length=38)\n",
      "2630it [57:40,  1.21s/it]Your max_length is set to 100, but you input_length is only 66. You might consider decreasing max_length manually, e.g. summarizer('...', max_length=33)\n",
      "2637it [57:49,  1.29s/it]Your max_length is set to 100, but you input_length is only 47. You might consider decreasing max_length manually, e.g. summarizer('...', max_length=23)\n",
      "2639it [57:51,  1.25s/it]Your max_length is set to 100, but you input_length is only 66. You might consider decreasing max_length manually, e.g. summarizer('...', max_length=33)\n",
      "2640it [57:52,  1.23s/it]Your max_length is set to 100, but you input_length is only 59. You might consider decreasing max_length manually, e.g. summarizer('...', max_length=29)\n",
      "2662it [58:20,  1.28s/it]Your max_length is set to 100, but you input_length is only 66. You might consider decreasing max_length manually, e.g. summarizer('...', max_length=33)\n",
      "2668it [58:28,  1.29s/it]Your max_length is set to 100, but you input_length is only 95. You might consider decreasing max_length manually, e.g. summarizer('...', max_length=47)\n",
      "2675it [58:37,  1.30s/it]Your max_length is set to 100, but you input_length is only 94. You might consider decreasing max_length manually, e.g. summarizer('...', max_length=47)\n",
      "2700it [59:10,  1.37s/it]Your max_length is set to 100, but you input_length is only 80. You might consider decreasing max_length manually, e.g. summarizer('...', max_length=40)\n",
      "2707it [59:19,  1.32s/it]Your max_length is set to 100, but you input_length is only 87. You might consider decreasing max_length manually, e.g. summarizer('...', max_length=43)\n",
      "2708it [59:20,  1.28s/it]Your max_length is set to 100, but you input_length is only 90. You might consider decreasing max_length manually, e.g. summarizer('...', max_length=45)\n",
      "2710it [59:23,  1.29s/it]Your max_length is set to 100, but you input_length is only 80. You might consider decreasing max_length manually, e.g. summarizer('...', max_length=40)\n",
      "2711it [59:24,  1.27s/it]Your max_length is set to 100, but you input_length is only 95. You might consider decreasing max_length manually, e.g. summarizer('...', max_length=47)\n",
      "2714it [59:28,  1.25s/it]Your max_length is set to 100, but you input_length is only 90. You might consider decreasing max_length manually, e.g. summarizer('...', max_length=45)\n",
      "2715it [59:29,  1.25s/it]Your max_length is set to 100, but you input_length is only 99. You might consider decreasing max_length manually, e.g. summarizer('...', max_length=49)\n",
      "2734it [59:55,  1.34s/it]Your max_length is set to 100, but you input_length is only 89. You might consider decreasing max_length manually, e.g. summarizer('...', max_length=44)\n",
      "2737it [59:59,  1.33s/it]Your max_length is set to 100, but you input_length is only 96. You might consider decreasing max_length manually, e.g. summarizer('...', max_length=48)\n",
      "2754it [1:00:22,  1.31s/it]Your max_length is set to 100, but you input_length is only 90. You might consider decreasing max_length manually, e.g. summarizer('...', max_length=45)\n",
      "2759it [1:00:28,  1.25s/it]Your max_length is set to 100, but you input_length is only 91. You might consider decreasing max_length manually, e.g. summarizer('...', max_length=45)\n",
      "2760it [1:00:29,  1.25s/it]Your max_length is set to 100, but you input_length is only 96. You might consider decreasing max_length manually, e.g. summarizer('...', max_length=48)\n",
      "2783it [1:01:00,  1.34s/it]Your max_length is set to 100, but you input_length is only 91. You might consider decreasing max_length manually, e.g. summarizer('...', max_length=45)\n",
      "2788it [1:01:07,  1.34s/it]Your max_length is set to 100, but you input_length is only 80. You might consider decreasing max_length manually, e.g. summarizer('...', max_length=40)\n",
      "2789it [1:01:08,  1.34s/it]Your max_length is set to 100, but you input_length is only 96. You might consider decreasing max_length manually, e.g. summarizer('...', max_length=48)\n",
      "2795it [1:01:16,  1.27s/it]Your max_length is set to 100, but you input_length is only 68. You might consider decreasing max_length manually, e.g. summarizer('...', max_length=34)\n",
      "2798it [1:01:20,  1.27s/it]Your max_length is set to 100, but you input_length is only 71. You might consider decreasing max_length manually, e.g. summarizer('...', max_length=35)\n",
      "2802it [1:01:25,  1.24s/it]Your max_length is set to 100, but you input_length is only 99. You might consider decreasing max_length manually, e.g. summarizer('...', max_length=49)\n",
      "2805it [1:01:28,  1.23s/it]Your max_length is set to 100, but you input_length is only 84. You might consider decreasing max_length manually, e.g. summarizer('...', max_length=42)\n",
      "2807it [1:01:31,  1.23s/it]Your max_length is set to 100, but you input_length is only 84. You might consider decreasing max_length manually, e.g. summarizer('...', max_length=42)\n",
      "2814it [1:01:40,  1.31s/it]Your max_length is set to 100, but you input_length is only 67. You might consider decreasing max_length manually, e.g. summarizer('...', max_length=33)\n",
      "2849it [1:02:27,  1.32s/it]Your max_length is set to 100, but you input_length is only 61. You might consider decreasing max_length manually, e.g. summarizer('...', max_length=30)\n",
      "2851it [1:02:30,  1.30s/it]Your max_length is set to 100, but you input_length is only 99. You might consider decreasing max_length manually, e.g. summarizer('...', max_length=49)\n",
      "2858it [1:02:39,  1.30s/it]Your max_length is set to 100, but you input_length is only 82. You might consider decreasing max_length manually, e.g. summarizer('...', max_length=41)\n",
      "2859it [1:02:40,  1.26s/it]Your max_length is set to 100, but you input_length is only 86. You might consider decreasing max_length manually, e.g. summarizer('...', max_length=43)\n",
      "2866it [1:02:49,  1.25s/it]Your max_length is set to 100, but you input_length is only 65. You might consider decreasing max_length manually, e.g. summarizer('...', max_length=32)\n",
      "2874it [1:02:59,  1.21s/it]Your max_length is set to 100, but you input_length is only 95. You might consider decreasing max_length manually, e.g. summarizer('...', max_length=47)\n",
      "2892it [1:03:23,  1.38s/it]Your max_length is set to 100, but you input_length is only 98. You might consider decreasing max_length manually, e.g. summarizer('...', max_length=49)\n",
      "2893it [1:03:24,  1.34s/it]Your max_length is set to 100, but you input_length is only 88. You might consider decreasing max_length manually, e.g. summarizer('...', max_length=44)\n",
      "2895it [1:03:26,  1.29s/it]Your max_length is set to 100, but you input_length is only 87. You might consider decreasing max_length manually, e.g. summarizer('...', max_length=43)\n",
      "2896it [1:03:28,  1.27s/it]Your max_length is set to 100, but you input_length is only 96. You might consider decreasing max_length manually, e.g. summarizer('...', max_length=48)\n",
      "2909it [1:03:46,  1.41s/it]Your max_length is set to 100, but you input_length is only 99. You might consider decreasing max_length manually, e.g. summarizer('...', max_length=49)\n",
      "2926it [1:04:11,  1.50s/it]Your max_length is set to 100, but you input_length is only 95. You might consider decreasing max_length manually, e.g. summarizer('...', max_length=47)\n",
      "2936it [1:04:24,  1.35s/it]Your max_length is set to 100, but you input_length is only 88. You might consider decreasing max_length manually, e.g. summarizer('...', max_length=44)\n",
      "2954it [1:04:52,  1.51s/it]Your max_length is set to 100, but you input_length is only 92. You might consider decreasing max_length manually, e.g. summarizer('...', max_length=46)\n",
      "3199it [1:11:21,  1.55s/it]Your max_length is set to 100, but you input_length is only 91. You might consider decreasing max_length manually, e.g. summarizer('...', max_length=45)\n",
      "3225it [1:12:00,  1.46s/it]Your max_length is set to 100, but you input_length is only 59. You might consider decreasing max_length manually, e.g. summarizer('...', max_length=29)\n",
      "3230it [1:12:07,  1.39s/it]Your max_length is set to 100, but you input_length is only 77. You might consider decreasing max_length manually, e.g. summarizer('...', max_length=38)\n",
      "3234it [1:12:13,  1.47s/it]Your max_length is set to 100, but you input_length is only 73. You might consider decreasing max_length manually, e.g. summarizer('...', max_length=36)\n",
      "3236it [1:12:15,  1.40s/it]Your max_length is set to 100, but you input_length is only 98. You might consider decreasing max_length manually, e.g. summarizer('...', max_length=49)\n",
      "3239it [1:12:19,  1.33s/it]Your max_length is set to 100, but you input_length is only 99. You might consider decreasing max_length manually, e.g. summarizer('...', max_length=49)\n",
      "3240it [1:12:21,  1.32s/it]Your max_length is set to 100, but you input_length is only 94. You might consider decreasing max_length manually, e.g. summarizer('...', max_length=47)\n",
      "3241it [1:12:22,  1.30s/it]Your max_length is set to 100, but you input_length is only 60. You might consider decreasing max_length manually, e.g. summarizer('...', max_length=30)\n",
      "3242it [1:12:23,  1.29s/it]Your max_length is set to 100, but you input_length is only 78. You might consider decreasing max_length manually, e.g. summarizer('...', max_length=39)\n",
      "3243it [1:12:24,  1.28s/it]Your max_length is set to 100, but you input_length is only 64. You might consider decreasing max_length manually, e.g. summarizer('...', max_length=32)\n",
      "3244it [1:12:26,  1.28s/it]Your max_length is set to 100, but you input_length is only 72. You might consider decreasing max_length manually, e.g. summarizer('...', max_length=36)\n",
      "3245it [1:12:27,  1.27s/it]Your max_length is set to 100, but you input_length is only 92. You might consider decreasing max_length manually, e.g. summarizer('...', max_length=46)\n",
      "3246it [1:12:28,  1.27s/it]Your max_length is set to 100, but you input_length is only 93. You might consider decreasing max_length manually, e.g. summarizer('...', max_length=46)\n",
      "3296it [1:13:48,  1.44s/it]Your max_length is set to 100, but you input_length is only 94. You might consider decreasing max_length manually, e.g. summarizer('...', max_length=47)\n",
      "3299it [1:13:52,  1.40s/it]Your max_length is set to 100, but you input_length is only 98. You might consider decreasing max_length manually, e.g. summarizer('...', max_length=49)\n",
      "3638it [1:22:12,  1.35s/it]Your max_length is set to 100, but you input_length is only 97. You might consider decreasing max_length manually, e.g. summarizer('...', max_length=48)\n",
      "3640it [1:22:15,  1.35s/it]Your max_length is set to 100, but you input_length is only 96. You might consider decreasing max_length manually, e.g. summarizer('...', max_length=48)\n",
      "3641it [1:22:16,  1.32s/it]Your max_length is set to 100, but you input_length is only 98. You might consider decreasing max_length manually, e.g. summarizer('...', max_length=49)\n",
      "3695it [1:23:36,  1.28s/it]Your max_length is set to 100, but you input_length is only 80. You might consider decreasing max_length manually, e.g. summarizer('...', max_length=40)\n",
      "3713it [1:24:00,  1.39s/it]Your max_length is set to 100, but you input_length is only 92. You might consider decreasing max_length manually, e.g. summarizer('...', max_length=46)\n",
      "3767it [1:25:19,  1.36s/it]Your max_length is set to 100, but you input_length is only 91. You might consider decreasing max_length manually, e.g. summarizer('...', max_length=45)\n",
      "3775it [1:25:30,  1.38s/it]Your max_length is set to 100, but you input_length is only 99. You might consider decreasing max_length manually, e.g. summarizer('...', max_length=49)\n",
      "3788it [1:25:48,  1.34s/it]Your max_length is set to 100, but you input_length is only 90. You might consider decreasing max_length manually, e.g. summarizer('...', max_length=45)\n",
      "3790it [1:25:51,  1.31s/it]Your max_length is set to 100, but you input_length is only 82. You might consider decreasing max_length manually, e.g. summarizer('...', max_length=41)\n",
      "3802it [1:26:08,  1.40s/it]Your max_length is set to 100, but you input_length is only 83. You might consider decreasing max_length manually, e.g. summarizer('...', max_length=41)\n",
      "3821it [1:26:35,  1.36s/it]\n"
     ]
    },
    {
     "data": {
      "text/plain": [
       "\" The French President-elect, one of the world's most famous men, has come to an end at the end of the year, and the men who were among those who were on the table at the top of the table, in France.\""
      ]
     },
     "execution_count": 31,
     "metadata": {},
     "output_type": "execute_result"
    }
   ],
   "source": [
    "from transformers import pipeline\n",
    "import tqdm\n",
    "\n",
    "summarizer = pipeline(\"summarization\", model=\"facebook/bart-large-cnn\")\n",
    "for i, text in tqdm.tqdm(enumerate(data['paragraph'].values.tolist())):\n",
    "    result = summarizer(text, max_length=100, min_length=50, do_sample=False)[0]['summary_text']\n",
    "    with open(f'data/summary_xsum/{i}_100_summary.txt', 'w') as f:\n",
    "        f.write(result)\n",
    "result"
   ]
  }
 ],
 "metadata": {
  "kernelspec": {
   "display_name": "Python 3.9.15 64-bit ('aiproject39')",
   "language": "python",
   "name": "python3"
  },
  "language_info": {
   "codemirror_mode": {
    "name": "ipython",
    "version": 3
   },
   "file_extension": ".py",
   "mimetype": "text/x-python",
   "name": "python",
   "nbconvert_exporter": "python",
   "pygments_lexer": "ipython3",
   "version": "3.9.15"
  },
  "orig_nbformat": 4,
  "vscode": {
   "interpreter": {
    "hash": "0a0db77ecd45ca139b1f77a390b49f175ac835f63ca27427a3add7e2a8c3e6c8"
   }
  }
 },
 "nbformat": 4,
 "nbformat_minor": 2
}
