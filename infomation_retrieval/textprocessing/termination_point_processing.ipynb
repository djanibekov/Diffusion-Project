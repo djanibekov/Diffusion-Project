{
 "cells": [
  {
   "cell_type": "code",
   "execution_count": 49,
   "metadata": {
    "collapsed": true
   },
   "outputs": [
    {
     "name": "stdout",
     "output_type": "stream",
     "text": [
      "<class 'pandas.core.frame.DataFrame'>\n",
      "RangeIndex: 3821 entries, 0 to 3820\n",
      "Data columns (total 8 columns):\n",
      " #   Column            Non-Null Count  Dtype \n",
      "---  ------            --------------  ----- \n",
      " 0   paragraph         3821 non-null   object\n",
      " 1   genre             3821 non-null   object\n",
      " 2   bart_summary_30   3821 non-null   object\n",
      " 3   bart_summary_50   3821 non-null   object\n",
      " 4   bart_summary_100  3821 non-null   object\n",
      " 5   xsum_summary_30   3821 non-null   object\n",
      " 6   xsum_summary_50   3821 non-null   object\n",
      " 7   xsum_summary_100  3821 non-null   object\n",
      "dtypes: object(8)\n",
      "memory usage: 238.9+ KB\n"
     ]
    }
   ],
   "source": [
    "import pandas as pd\n",
    "\n",
    "data = pd.read_csv('unprocessed_summaries.csv').drop(['Unnamed: 0'], axis=1)\n",
    "data.info()"
   ]
  },
  {
   "cell_type": "code",
   "execution_count": 52,
   "outputs": [
    {
     "name": "stdout",
     "output_type": "stream",
     "text": [
      "INFO: Pandarallel will run on 8 workers.\n",
      "INFO: Pandarallel will use standard multiprocessing data transfer (pipe) to transfer data between the main process and workers.\n"
     ]
    },
    {
     "data": {
      "text/plain": "                                              paragraph      genre  \\\n0     “Then I can wait in the next room”. “Not at al...  detective   \n1     “You did, Doctor, but none the less you must c...  detective   \n2     I did not gain very much, however, by my inspe...  detective   \n3     “How did you know, for example, that I did man...  detective   \n4     ” “Well, but China? ” “The fish that you have ...  detective   \n...                                                 ...        ...   \n3816  Aye, lad, thou shalt sit here in my own screwe...  adventure   \n3817  Sir, I must go with ye”. “If thou speakest thu...  adventure   \n3818  True art thou, lad, as the circumference to it...  adventure   \n3819  What? neither lock, nor bolt, nor bar; and yet...  adventure   \n3820  Pass round the decanters; glad to see ye; fill...  adventure   \n\n                                        bart_summary_30  \\\n0                                                  None   \n1                                                   Mr.   \n2     Sherlock Holmes’ quick eye took in my occupati...   \n3     “How did you know, for example, that I did man...   \n4     The fish that you have tattooed immediately ab...   \n...                                                 ...   \n3816  “Oh! spite of million villains, this makes me ...   \n3817  “If thou speakest thus to me much more, Ahab’s...   \n3818  “True art thou, lad, as the circumference to i...   \n3819                             \"It must be the spell;   \n3820  \"What an odd feeling, now, when a black boy’s ...   \n\n                                        bart_summary_50  \\\n0     “I know, my dear Watson, that you share my lov...   \n1     Mr. Jabez Wilson has been good enough to call ...   \n2     Sherlock Holmes’ quick eye took in my occupati...   \n3     “Your hands, my dear sir. Your right hand is q...   \n4     The fish that you have tattooed immediately ab...   \n...                                                 ...   \n3816  “Oh! spite of million villains, this makes me ...   \n3817  “If thou speakest thus to me much more, Ahab’s...   \n3818  “True art thou, lad, as the circumference to i...   \n3819  \"It must be the spell; he told me to stay here...   \n3820  \"What an odd feeling, now, when a black boy's ...   \n\n                                       bart_summary_100  \\\n0     “I know, my dear Watson, that you share my lov...   \n1     Mr. Jabez Wilson has been good enough to call ...   \n2     Sherlock Holmes’ quick eye took in my occupati...   \n3     “Your hands, my dear sir. Your right hand is q...   \n4     The fish that you have tattooed immediately ab...   \n...                                                 ...   \n3816  “Oh! spite of million villains, this makes me ...   \n3817  “If thou speakest thus to me much more, Ahab’s...   \n3818  “True art thou, lad, as the circumference to i...   \n3819  \"It must be the spell; he told me to stay here...   \n3820  \"What an odd feeling, now, when a black boy’s ...   \n\n                                        xsum_summary_30  \\\n0                                                  None   \n1      The case of a man who was at the centre of Lo...   \n2      I at the home of Jabez Wilson, I had to look ...   \n3      One of the most senior members of the Royal F...   \n4      Holmes, one of the most famous characters in ...   \n...                                                 ...   \n3816   One of the most famous characters, Stubb, are...   \n3817   One of the biggest stories of the year, the s...   \n3818   A tale of the story of the Lord of the Year, ...   \n3819   A new chair at the end of the year-long, ther...   \n3820   The French President-elect, one of the world'...   \n\n                                        xsum_summary_50  \\\n0      Holmes, one of the world's most famous cases ...   \n1      The case of a man who was at the centre of Lo...   \n2      I at the home of Jabez Wilson, I had to look ...   \n3      One of the most senior members of the Royal F...   \n4      Holmes, one of the most famous characters in ...   \n...                                                 ...   \n3816   One of the most famous characters, Stubb, are...   \n3817   One of the biggest stories of the year, the s...   \n3818   A tale of the story of the Lord of the Year, ...   \n3819   A new chair at the end of the year-long, ther...   \n3820   The French President-elect, one of the world'...   \n\n                                       xsum_summary_100  \n0      Holmes, one of the world's most famous cases ...  \n1      The case of a man who was at the centre of Lo...  \n2      I at the home of Jabez Wilson, I had to look ...  \n3      One of the most senior members of the Royal F...  \n4      Holmes, one of the most famous characters in ...  \n...                                                 ...  \n3816   One of the most famous characters, Stubb, are...  \n3817                                               None  \n3818   A tale of the story of the Lord of the Year, ...  \n3819   A new chair at the end of the year-long, ther...  \n3820   The French President-elect, one of the world'...  \n\n[3821 rows x 8 columns]",
      "text/html": "<div>\n<style scoped>\n    .dataframe tbody tr th:only-of-type {\n        vertical-align: middle;\n    }\n\n    .dataframe tbody tr th {\n        vertical-align: top;\n    }\n\n    .dataframe thead th {\n        text-align: right;\n    }\n</style>\n<table border=\"1\" class=\"dataframe\">\n  <thead>\n    <tr style=\"text-align: right;\">\n      <th></th>\n      <th>paragraph</th>\n      <th>genre</th>\n      <th>bart_summary_30</th>\n      <th>bart_summary_50</th>\n      <th>bart_summary_100</th>\n      <th>xsum_summary_30</th>\n      <th>xsum_summary_50</th>\n      <th>xsum_summary_100</th>\n    </tr>\n  </thead>\n  <tbody>\n    <tr>\n      <th>0</th>\n      <td>“Then I can wait in the next room”. “Not at al...</td>\n      <td>detective</td>\n      <td>None</td>\n      <td>“I know, my dear Watson, that you share my lov...</td>\n      <td>“I know, my dear Watson, that you share my lov...</td>\n      <td>None</td>\n      <td>Holmes, one of the world's most famous cases ...</td>\n      <td>Holmes, one of the world's most famous cases ...</td>\n    </tr>\n    <tr>\n      <th>1</th>\n      <td>“You did, Doctor, but none the less you must c...</td>\n      <td>detective</td>\n      <td>Mr.</td>\n      <td>Mr. Jabez Wilson has been good enough to call ...</td>\n      <td>Mr. Jabez Wilson has been good enough to call ...</td>\n      <td>The case of a man who was at the centre of Lo...</td>\n      <td>The case of a man who was at the centre of Lo...</td>\n      <td>The case of a man who was at the centre of Lo...</td>\n    </tr>\n    <tr>\n      <th>2</th>\n      <td>I did not gain very much, however, by my inspe...</td>\n      <td>detective</td>\n      <td>Sherlock Holmes’ quick eye took in my occupati...</td>\n      <td>Sherlock Holmes’ quick eye took in my occupati...</td>\n      <td>Sherlock Holmes’ quick eye took in my occupati...</td>\n      <td>I at the home of Jabez Wilson, I had to look ...</td>\n      <td>I at the home of Jabez Wilson, I had to look ...</td>\n      <td>I at the home of Jabez Wilson, I had to look ...</td>\n    </tr>\n    <tr>\n      <th>3</th>\n      <td>“How did you know, for example, that I did man...</td>\n      <td>detective</td>\n      <td>“How did you know, for example, that I did man...</td>\n      <td>“Your hands, my dear sir. Your right hand is q...</td>\n      <td>“Your hands, my dear sir. Your right hand is q...</td>\n      <td>One of the most senior members of the Royal F...</td>\n      <td>One of the most senior members of the Royal F...</td>\n      <td>One of the most senior members of the Royal F...</td>\n    </tr>\n    <tr>\n      <th>4</th>\n      <td>” “Well, but China? ” “The fish that you have ...</td>\n      <td>detective</td>\n      <td>The fish that you have tattooed immediately ab...</td>\n      <td>The fish that you have tattooed immediately ab...</td>\n      <td>The fish that you have tattooed immediately ab...</td>\n      <td>Holmes, one of the most famous characters in ...</td>\n      <td>Holmes, one of the most famous characters in ...</td>\n      <td>Holmes, one of the most famous characters in ...</td>\n    </tr>\n    <tr>\n      <th>...</th>\n      <td>...</td>\n      <td>...</td>\n      <td>...</td>\n      <td>...</td>\n      <td>...</td>\n      <td>...</td>\n      <td>...</td>\n      <td>...</td>\n    </tr>\n    <tr>\n      <th>3816</th>\n      <td>Aye, lad, thou shalt sit here in my own screwe...</td>\n      <td>adventure</td>\n      <td>“Oh! spite of million villains, this makes me ...</td>\n      <td>“Oh! spite of million villains, this makes me ...</td>\n      <td>“Oh! spite of million villains, this makes me ...</td>\n      <td>One of the most famous characters, Stubb, are...</td>\n      <td>One of the most famous characters, Stubb, are...</td>\n      <td>One of the most famous characters, Stubb, are...</td>\n    </tr>\n    <tr>\n      <th>3817</th>\n      <td>Sir, I must go with ye”. “If thou speakest thu...</td>\n      <td>adventure</td>\n      <td>“If thou speakest thus to me much more, Ahab’s...</td>\n      <td>“If thou speakest thus to me much more, Ahab’s...</td>\n      <td>“If thou speakest thus to me much more, Ahab’s...</td>\n      <td>One of the biggest stories of the year, the s...</td>\n      <td>One of the biggest stories of the year, the s...</td>\n      <td>None</td>\n    </tr>\n    <tr>\n      <th>3818</th>\n      <td>True art thou, lad, as the circumference to it...</td>\n      <td>adventure</td>\n      <td>“True art thou, lad, as the circumference to i...</td>\n      <td>“True art thou, lad, as the circumference to i...</td>\n      <td>“True art thou, lad, as the circumference to i...</td>\n      <td>A tale of the story of the Lord of the Year, ...</td>\n      <td>A tale of the story of the Lord of the Year, ...</td>\n      <td>A tale of the story of the Lord of the Year, ...</td>\n    </tr>\n    <tr>\n      <th>3819</th>\n      <td>What? neither lock, nor bolt, nor bar; and yet...</td>\n      <td>adventure</td>\n      <td>\"It must be the spell;</td>\n      <td>\"It must be the spell; he told me to stay here...</td>\n      <td>\"It must be the spell; he told me to stay here...</td>\n      <td>A new chair at the end of the year-long, ther...</td>\n      <td>A new chair at the end of the year-long, ther...</td>\n      <td>A new chair at the end of the year-long, ther...</td>\n    </tr>\n    <tr>\n      <th>3820</th>\n      <td>Pass round the decanters; glad to see ye; fill...</td>\n      <td>adventure</td>\n      <td>\"What an odd feeling, now, when a black boy’s ...</td>\n      <td>\"What an odd feeling, now, when a black boy's ...</td>\n      <td>\"What an odd feeling, now, when a black boy’s ...</td>\n      <td>The French President-elect, one of the world'...</td>\n      <td>The French President-elect, one of the world'...</td>\n      <td>The French President-elect, one of the world'...</td>\n    </tr>\n  </tbody>\n</table>\n<p>3821 rows × 8 columns</p>\n</div>"
     },
     "execution_count": 52,
     "metadata": {},
     "output_type": "execute_result"
    }
   ],
   "source": [
    "from pandarallel import pandarallel\n",
    "def process_termination_point(row):\n",
    "    for model_name in ['bart_summary_30', 'bart_summary_50', 'bart_summary_100', 'xsum_summary_30', 'xsum_summary_50', 'xsum_summary_100']:\n",
    "        text = row[model_name]\n",
    "        stop_chars = ['.', '...', '?', '!', ';']\n",
    "        index_of_stop_char = []\n",
    "        for char in stop_chars:\n",
    "            try:\n",
    "                index_of_stop_char.append(len(text) - text[::-1].index(char))\n",
    "            except ValueError:\n",
    "                index_of_stop_char.append(0)\n",
    "\n",
    "        max_info = max(index_of_stop_char)\n",
    "        if max_info == 0:\n",
    "            row[model_name] = None\n",
    "        else:\n",
    "            row[model_name] = text[:max_info]\n",
    "    return row\n",
    "\n",
    "pandarallel.initialize()\n",
    "processed_data = data.parallel_apply(process_termination_point, axis=1)\n",
    "processed_data"
   ],
   "metadata": {
    "collapsed": false
   }
  },
  {
   "cell_type": "code",
   "execution_count": 53,
   "outputs": [
    {
     "name": "stdout",
     "output_type": "stream",
     "text": [
      "<class 'pandas.core.frame.DataFrame'>\n",
      "RangeIndex: 3821 entries, 0 to 3820\n",
      "Data columns (total 8 columns):\n",
      " #   Column            Non-Null Count  Dtype \n",
      "---  ------            --------------  ----- \n",
      " 0   paragraph         3821 non-null   object\n",
      " 1   genre             3821 non-null   object\n",
      " 2   bart_summary_30   3236 non-null   object\n",
      " 3   bart_summary_50   3718 non-null   object\n",
      " 4   bart_summary_100  3788 non-null   object\n",
      " 5   xsum_summary_30   3208 non-null   object\n",
      " 6   xsum_summary_50   3808 non-null   object\n",
      " 7   xsum_summary_100  3447 non-null   object\n",
      "dtypes: object(8)\n",
      "memory usage: 238.9+ KB\n"
     ]
    }
   ],
   "source": [
    "processed_data.info()"
   ],
   "metadata": {
    "collapsed": false
   }
  },
  {
   "cell_type": "code",
   "execution_count": 55,
   "outputs": [],
   "source": [
    "processed_data.dropna().to_csv('summaries_processed_by_termination_point.csv', index=False)"
   ],
   "metadata": {
    "collapsed": false
   }
  },
  {
   "cell_type": "code",
   "execution_count": 63,
   "outputs": [],
   "source": [
    "processed_data.dropna(subset=['xsum_summary_100']).sample(3000, random_state=3294).to_csv('xsum_summary_100.csv', index=False)"
   ],
   "metadata": {
    "collapsed": false
   }
  },
  {
   "cell_type": "code",
   "execution_count": null,
   "outputs": [],
   "source": [],
   "metadata": {
    "collapsed": false
   }
  }
 ],
 "metadata": {
  "kernelspec": {
   "display_name": "Python 3",
   "language": "python",
   "name": "python3"
  },
  "language_info": {
   "codemirror_mode": {
    "name": "ipython",
    "version": 2
   },
   "file_extension": ".py",
   "mimetype": "text/x-python",
   "name": "python",
   "nbconvert_exporter": "python",
   "pygments_lexer": "ipython2",
   "version": "2.7.6"
  }
 },
 "nbformat": 4,
 "nbformat_minor": 0
}
