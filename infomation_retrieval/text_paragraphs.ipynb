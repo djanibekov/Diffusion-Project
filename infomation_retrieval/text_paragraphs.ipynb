{
 "cells": [
  {
   "cell_type": "code",
   "execution_count": 1,
   "metadata": {
    "collapsed": true
   },
   "outputs": [
    {
     "name": "stdout",
     "output_type": "stream",
     "text": [
      "<class 'pandas.core.frame.DataFrame'>\n",
      "RangeIndex: 3821 entries, 0 to 3820\n",
      "Data columns (total 3 columns):\n",
      " #   Column      Non-Null Count  Dtype \n",
      "---  ------      --------------  ----- \n",
      " 0   Unnamed: 0  3821 non-null   int64 \n",
      " 1   paragraph   3821 non-null   object\n",
      " 2   genre       3821 non-null   object\n",
      "dtypes: int64(1), object(2)\n",
      "memory usage: 89.7+ KB\n"
     ]
    }
   ],
   "source": [
    "import pandas as pd\n",
    "\n",
    "data = pd.read_csv('paragraphs.csv')\n",
    "data.info()"
   ]
  },
  {
   "cell_type": "code",
   "execution_count": 2,
   "outputs": [
    {
     "data": {
      "text/plain": "   Unnamed: 0                                          paragraph      genre\n0           0  “Then I can wait in the next room”. “Not at al...  detective\n1           1  “You did, Doctor, but none the less you must c...  detective\n2           2  I did not gain very much, however, by my inspe...  detective\n3           3  “How did you know, for example, that I did man...  detective\n4           4  ” “Well, but China? ” “The fish that you have ...  detective",
      "text/html": "<div>\n<style scoped>\n    .dataframe tbody tr th:only-of-type {\n        vertical-align: middle;\n    }\n\n    .dataframe tbody tr th {\n        vertical-align: top;\n    }\n\n    .dataframe thead th {\n        text-align: right;\n    }\n</style>\n<table border=\"1\" class=\"dataframe\">\n  <thead>\n    <tr style=\"text-align: right;\">\n      <th></th>\n      <th>Unnamed: 0</th>\n      <th>paragraph</th>\n      <th>genre</th>\n    </tr>\n  </thead>\n  <tbody>\n    <tr>\n      <th>0</th>\n      <td>0</td>\n      <td>“Then I can wait in the next room”. “Not at al...</td>\n      <td>detective</td>\n    </tr>\n    <tr>\n      <th>1</th>\n      <td>1</td>\n      <td>“You did, Doctor, but none the less you must c...</td>\n      <td>detective</td>\n    </tr>\n    <tr>\n      <th>2</th>\n      <td>2</td>\n      <td>I did not gain very much, however, by my inspe...</td>\n      <td>detective</td>\n    </tr>\n    <tr>\n      <th>3</th>\n      <td>3</td>\n      <td>“How did you know, for example, that I did man...</td>\n      <td>detective</td>\n    </tr>\n    <tr>\n      <th>4</th>\n      <td>4</td>\n      <td>” “Well, but China? ” “The fish that you have ...</td>\n      <td>detective</td>\n    </tr>\n  </tbody>\n</table>\n</div>"
     },
     "execution_count": 2,
     "metadata": {},
     "output_type": "execute_result"
    }
   ],
   "source": [
    "data.head()"
   ],
   "metadata": {
    "collapsed": false
   }
  },
  {
   "cell_type": "code",
   "execution_count": 3,
   "outputs": [
    {
     "data": {
      "text/plain": "horror       1079\nsci_fi        866\nadventure     856\ndetective     542\nromance       478\nName: genre, dtype: int64"
     },
     "execution_count": 3,
     "metadata": {},
     "output_type": "execute_result"
    }
   ],
   "source": [
    "data['genre'].value_counts()"
   ],
   "metadata": {
    "collapsed": false
   }
  },
  {
   "cell_type": "code",
   "execution_count": 4,
   "outputs": [],
   "source": [
    "horror = data[data['genre'] == 'horror']\n",
    "sci_fi = data[data['genre'] == 'sci_fi']\n",
    "adventure = data[data['genre'] == 'adventure']\n",
    "detective = data[data['genre'] == 'detective']\n",
    "romance = data[data['genre'] == 'romance']"
   ],
   "metadata": {
    "collapsed": false
   }
  },
  {
   "cell_type": "code",
   "execution_count": null,
   "outputs": [],
   "source": [],
   "metadata": {
    "collapsed": false
   }
  }
 ],
 "metadata": {
  "kernelspec": {
   "display_name": "Python 3",
   "language": "python",
   "name": "python3"
  },
  "language_info": {
   "codemirror_mode": {
    "name": "ipython",
    "version": 2
   },
   "file_extension": ".py",
   "mimetype": "text/x-python",
   "name": "python",
   "nbconvert_exporter": "python",
   "pygments_lexer": "ipython2",
   "version": "2.7.6"
  }
 },
 "nbformat": 4,
 "nbformat_minor": 0
}
