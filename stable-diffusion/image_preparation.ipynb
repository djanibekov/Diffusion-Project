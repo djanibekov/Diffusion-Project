{
 "cells": [
  {
   "cell_type": "code",
   "execution_count": 3,
   "metadata": {},
   "outputs": [],
   "source": [
    "from PIL import Image\n",
    "import os\n",
    "\n",
    "folder = '512x512'\n",
    "# os.mkdir('512x512')\n",
    "root = 'data/512x512'\n",
    "for genre_folder in os.listdir(root):\n",
    "    os.mkdir(f'{folder}/{genre_folder}')\n",
    "    for style_folder in os.listdir(f'{root}/{genre_folder}'):\n",
    "        os.mkdir(f'{folder}/{genre_folder}/{style_folder}')\n",
    "        for i, pic in enumerate(os.listdir(f'{root}/{genre_folder}/{style_folder}')):\n",
    "            name = f'{genre_folder.split(\"_\")[0]}-{style_folder}-{i}'\n",
    "            image = Image.open(f'{root}/{genre_folder}/{style_folder}/{pic}').convert('RGB')\n",
    "            image_resized = image.resize((512, 512))\n",
    "\n",
    "            \n",
    "            image_resized.save(f'{folder}/{genre_folder}/{style_folder}/{name}.png', format='PNG', resample=Image.NEAREST)\n",
    "\n"
   ]
  },
  {
   "cell_type": "code",
   "execution_count": null,
   "metadata": {},
   "outputs": [],
   "source": []
  }
 ],
 "metadata": {
  "kernelspec": {
   "display_name": "Python 3.8.10 64-bit",
   "language": "python",
   "name": "python3"
  },
  "language_info": {
   "codemirror_mode": {
    "name": "ipython",
    "version": 3
   },
   "file_extension": ".py",
   "mimetype": "text/x-python",
   "name": "python",
   "nbconvert_exporter": "python",
   "pygments_lexer": "ipython3",
   "version": "3.8.10"
  },
  "orig_nbformat": 4,
  "vscode": {
   "interpreter": {
    "hash": "31f2aee4e71d21fbe5cf8b01ff0e069b9275f58929596ceb00d14d90e3e16cd6"
   }
  }
 },
 "nbformat": 4,
 "nbformat_minor": 2
}
